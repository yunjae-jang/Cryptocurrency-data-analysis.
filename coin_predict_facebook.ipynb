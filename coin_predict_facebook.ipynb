{
  "nbformat": 4,
  "nbformat_minor": 0,
  "metadata": {
    "colab": {
      "name": "coin_predict_facebook",
      "provenance": []
    },
    "kernelspec": {
      "name": "python3",
      "display_name": "Python 3"
    },
    "language_info": {
      "name": "python"
    }
  },
  "cells": [
    {
      "cell_type": "code",
      "metadata": {
        "id": "z3JoKkKi44Vp"
      },
      "source": [
        "# -*- coding: utf-8 -*-\n",
        "\n",
        "%matplotlib inline\n",
        "\n",
        "import pandas as pd\n",
        "import numpy as np\n",
        "import matplotlib.pyplot as plt\n",
        "from fbprophet import Prophet\n",
        "from sklearn.metrics import mean_squared_error, r2_score\n",
        "from math import sqrt\n",
        "\n",
        "import warnings\n",
        "warnings.filterwarnings(\"ignore\")"
      ],
      "execution_count": null,
      "outputs": []
    },
    {
      "cell_type": "markdown",
      "metadata": {
        "id": "LL3QKaDS5P-Y"
      },
      "source": [
        "### 1. 시간 정보가 포함된 데이터 살펴보기"
      ]
    },
    {
      "cell_type": "code",
      "metadata": {
        "colab": {
          "base_uri": "https://localhost:8080/",
          "height": 203
        },
        "id": "72ERebR65T8e",
        "outputId": "171a3ea9-0e51-43d5-f6fe-46c96d44829b"
      },
      "source": [
        "df = pd.read_csv('/content/complete_btc')\n",
        "df.tail()"
      ],
      "execution_count": null,
      "outputs": [
        {
          "output_type": "execute_result",
          "data": {
            "text/html": [
              "<div>\n",
              "<style scoped>\n",
              "    .dataframe tbody tr th:only-of-type {\n",
              "        vertical-align: middle;\n",
              "    }\n",
              "\n",
              "    .dataframe tbody tr th {\n",
              "        vertical-align: top;\n",
              "    }\n",
              "\n",
              "    .dataframe thead th {\n",
              "        text-align: right;\n",
              "    }\n",
              "</style>\n",
              "<table border=\"1\" class=\"dataframe\">\n",
              "  <thead>\n",
              "    <tr style=\"text-align: right;\">\n",
              "      <th></th>\n",
              "      <th>ds</th>\n",
              "      <th>y</th>\n",
              "    </tr>\n",
              "  </thead>\n",
              "  <tbody>\n",
              "    <tr>\n",
              "      <th>3031</th>\n",
              "      <td>2021-08-16</td>\n",
              "      <td>45996.3</td>\n",
              "    </tr>\n",
              "    <tr>\n",
              "      <th>3032</th>\n",
              "      <td>2021-08-17</td>\n",
              "      <td>44691.6</td>\n",
              "    </tr>\n",
              "    <tr>\n",
              "      <th>3033</th>\n",
              "      <td>2021-08-18</td>\n",
              "      <td>44723.8</td>\n",
              "    </tr>\n",
              "    <tr>\n",
              "      <th>3034</th>\n",
              "      <td>2021-08-19</td>\n",
              "      <td>46755.9</td>\n",
              "    </tr>\n",
              "    <tr>\n",
              "      <th>3035</th>\n",
              "      <td>2021-08-20</td>\n",
              "      <td>47041.6</td>\n",
              "    </tr>\n",
              "  </tbody>\n",
              "</table>\n",
              "</div>"
            ],
            "text/plain": [
              "              ds        y\n",
              "3031  2021-08-16  45996.3\n",
              "3032  2021-08-17  44691.6\n",
              "3033  2021-08-18  44723.8\n",
              "3034  2021-08-19  46755.9\n",
              "3035  2021-08-20  47041.6"
            ]
          },
          "metadata": {},
          "execution_count": 196
        }
      ]
    },
    {
      "cell_type": "code",
      "metadata": {
        "colab": {
          "base_uri": "https://localhost:8080/",
          "height": 203
        },
        "id": "RBc76Vn75xjJ",
        "outputId": "faa050ed-268e-4cf7-b986-c7cfb2c22d7e"
      },
      "source": [
        "df.head()"
      ],
      "execution_count": null,
      "outputs": [
        {
          "output_type": "execute_result",
          "data": {
            "text/html": [
              "<div>\n",
              "<style scoped>\n",
              "    .dataframe tbody tr th:only-of-type {\n",
              "        vertical-align: middle;\n",
              "    }\n",
              "\n",
              "    .dataframe tbody tr th {\n",
              "        vertical-align: top;\n",
              "    }\n",
              "\n",
              "    .dataframe thead th {\n",
              "        text-align: right;\n",
              "    }\n",
              "</style>\n",
              "<table border=\"1\" class=\"dataframe\">\n",
              "  <thead>\n",
              "    <tr style=\"text-align: right;\">\n",
              "      <th></th>\n",
              "      <th>ds</th>\n",
              "      <th>y</th>\n",
              "    </tr>\n",
              "  </thead>\n",
              "  <tbody>\n",
              "    <tr>\n",
              "      <th>0</th>\n",
              "      <td>2013-04-29</td>\n",
              "      <td>144.539993</td>\n",
              "    </tr>\n",
              "    <tr>\n",
              "      <th>1</th>\n",
              "      <td>2013-04-30</td>\n",
              "      <td>139.000000</td>\n",
              "    </tr>\n",
              "    <tr>\n",
              "      <th>2</th>\n",
              "      <td>2013-05-01</td>\n",
              "      <td>116.989998</td>\n",
              "    </tr>\n",
              "    <tr>\n",
              "      <th>3</th>\n",
              "      <td>2013-05-02</td>\n",
              "      <td>105.209999</td>\n",
              "    </tr>\n",
              "    <tr>\n",
              "      <th>4</th>\n",
              "      <td>2013-05-03</td>\n",
              "      <td>97.750000</td>\n",
              "    </tr>\n",
              "  </tbody>\n",
              "</table>\n",
              "</div>"
            ],
            "text/plain": [
              "           ds           y\n",
              "0  2013-04-29  144.539993\n",
              "1  2013-04-30  139.000000\n",
              "2  2013-05-01  116.989998\n",
              "3  2013-05-02  105.209999\n",
              "4  2013-05-03   97.750000"
            ]
          },
          "metadata": {},
          "execution_count": 197
        }
      ]
    },
    {
      "cell_type": "code",
      "metadata": {
        "colab": {
          "base_uri": "https://localhost:8080/",
          "height": 330
        },
        "id": "Sjef0Rrq5zJU",
        "outputId": "ac2d4253-e901-48ea-db1c-bdb53bdcff58"
      },
      "source": [
        "df.plot(x= 'ds',  y='y', figsize=(10,5))\n",
        "plt.show()"
      ],
      "execution_count": null,
      "outputs": [
        {
          "output_type": "display_data",
          "data": {
            "image/png": "[encoded data removed]",
            "text/plain": [
              "<Figure size 720x360 with 1 Axes>"
            ]
          },
          "metadata": {
            "needs_background": "light"
          }
        }
      ]
    },
    {
      "cell_type": "markdown",
      "metadata": {
        "id": "vPXEo3l850jy"
      },
      "source": [
        "## 2. 파이썬 라이브러리를 활용한 시세 예측"
      ]
    },
    {
      "cell_type": "markdown",
      "metadata": {
        "id": "rltYD1TM5-jD"
      },
      "source": [
        "### [ARIMA 모델 활용하기]"
      ]
    },
    {
      "cell_type": "code",
      "metadata": {
        "colab": {
          "base_uri": "https://localhost:8080/"
        },
        "id": "-owY_JTw6B7F",
        "outputId": "dcff31c6-9959-4849-dce0-ce3785755b0e"
      },
      "source": [
        "!pip install pmdarima"
      ],
      "execution_count": null,
      "outputs": [
        {
          "output_type": "stream",
          "text": [
            "Collecting pmdarima\n",
            "  Downloading pmdarima-1.8.2-cp37-cp37m-manylinux1_x86_64.whl (1.5 MB)\n",
            "\u001b[K     |████████████████████████████████| 1.5 MB 7.6 MB/s \n",
            "\u001b[?25hCollecting statsmodels!=0.12.0,>=0.11\n",
            "  Downloading statsmodels-0.12.2-cp37-cp37m-manylinux1_x86_64.whl (9.5 MB)\n",
            "\u001b[K     |████████████████████████████████| 9.5 MB 17.9 MB/s \n",
            "\u001b[?25hRequirement already satisfied: Cython!=0.29.18,>=0.29 in /usr/local/lib/python3.7/dist-packages (from pmdarima) (0.29.24)\n",
            "Requirement already satisfied: scipy>=1.3.2 in /usr/local/lib/python3.7/dist-packages (from pmdarima) (1.4.1)\n",
            "Requirement already satisfied: urllib3 in /usr/local/lib/python3.7/dist-packages (from pmdarima) (1.24.3)\n",
            "Requirement already satisfied: joblib>=0.11 in /usr/local/lib/python3.7/dist-packages (from pmdarima) (1.0.1)\n",
            "Requirement already satisfied: numpy~=1.19.0 in /usr/local/lib/python3.7/dist-packages (from pmdarima) (1.19.5)\n",
            "Requirement already satisfied: setuptools!=50.0.0,>=38.6.0 in /usr/local/lib/python3.7/dist-packages (from pmdarima) (57.4.0)\n",
            "Requirement already satisfied: pandas>=0.19 in /usr/local/lib/python3.7/dist-packages (from pmdarima) (1.1.5)\n",
            "Requirement already satisfied: scikit-learn>=0.22 in /usr/local/lib/python3.7/dist-packages (from pmdarima) (0.22.2.post1)\n",
            "Requirement already satisfied: python-dateutil>=2.7.3 in /usr/local/lib/python3.7/dist-packages (from pandas>=0.19->pmdarima) (2.8.2)\n",
            "Requirement already satisfied: pytz>=2017.2 in /usr/local/lib/python3.7/dist-packages (from pandas>=0.19->pmdarima) (2018.9)\n",
            "Requirement already satisfied: six>=1.5 in /usr/local/lib/python3.7/dist-packages (from python-dateutil>=2.7.3->pandas>=0.19->pmdarima) (1.15.0)\n",
            "Requirement already satisfied: patsy>=0.5 in /usr/local/lib/python3.7/dist-packages (from statsmodels!=0.12.0,>=0.11->pmdarima) (0.5.1)\n",
            "Installing collected packages: statsmodels, pmdarima\n",
            "  Attempting uninstall: statsmodels\n",
            "    Found existing installation: statsmodels 0.10.2\n",
            "    Uninstalling statsmodels-0.10.2:\n",
            "      Successfully uninstalled statsmodels-0.10.2\n",
            "Successfully installed pmdarima-1.8.2 statsmodels-0.12.2\n"
          ],
          "name": "stdout"
        }
      ]
    },
    {
      "cell_type": "code",
      "metadata": {
        "id": "DZc6tDIh6NzP"
      },
      "source": [
        "import pandas as pd\n",
        "from sklearn.model_selection import train_test_split\n",
        "from sklearn.metrics import r2_score\n",
        "\n",
        "import matplotlib.pyplot as plt\n",
        "import matplotlib\n",
        "plt.style.use('seaborn-whitegrid')\n",
        "\n",
        "import statsmodels.api as sm\n",
        "from pmdarima.arima import auto_arima\n",
        "from statsmodels.tsa.arima_model import ARIMA\n",
        "from statsmodels.tsa.statespace.sarimax import SARIMAX\n",
        "\n",
        "import seaborn as SNS\n",
        "%matplotlib inline\n",
        "\n",
        "import itertools"
      ],
      "execution_count": null,
      "outputs": []
    },
    {
      "cell_type": "markdown",
      "metadata": {
        "id": "wAQtk4JF6Ucl"
      },
      "source": [
        "### [Facebook Prophet 활용하기]"
      ]
    },
    {
      "cell_type": "markdown",
      "metadata": {
        "id": "YtZ59mv38foK"
      },
      "source": [
        "###  What is prophet packages? \n",
        "\n",
        "- 시계열 데이터들을 가지고 높은 퀄리티로 예측하는 툴이다. \n",
        "\n",
        "- Facebook에서 직접 개발함. \n",
        "\n",
        "- prophet의 데이터 칼럼들은 'ds', 'y'로 고정되어야 함.\n",
        "\n",
        "- seasonality_mode : 연간, 월간, 주간, 일간 등의 트렌드성을 반영하는 것을 의미한다. \n",
        "비트코인 데이터는 연간, 월간, 주간, 일간, 240분봉 등이 반영된다면 더 좋을 것이다. \n",
        "\n",
        "- changepoint_prior_scale : 트렌드가 변경되는 문맥을 반영하여 예측한다. 수치가 높을수록 overfitting에 가까워진다. "
      ]
    },
    {
      "cell_type": "markdown",
      "metadata": {
        "id": "Gl2WZdv08es7"
      },
      "source": [
        "**Fit**"
      ]
    },
    {
      "cell_type": "code",
      "metadata": {
        "id": "N1lBHEp68bXo"
      },
      "source": [
        "# pip install fbprophet import Prophet"
      ],
      "execution_count": null,
      "outputs": []
    },
    {
      "cell_type": "code",
      "metadata": {
        "colab": {
          "base_uri": "https://localhost:8080/"
        },
        "id": "WRMBQBf-9UG3",
        "outputId": "b8c4287b-7034-4031-d33f-9232f4917e7f"
      },
      "source": [
        "model = Prophet(seasonality_mode = 'multiplicative',\n",
        "                yearly_seasonality = True,\n",
        "                weekly_seasonality = True,\n",
        "                daily_seasonality = True,\n",
        "                changepoint_prior_scale=0.7)\n",
        "model.fit(df)"
      ],
      "execution_count": null,
      "outputs": [
        {
          "output_type": "execute_result",
          "data": {
            "text/plain": [
              "<fbprophet.forecaster.Prophet at 0x7f3569602a90>"
            ]
          },
          "metadata": {},
          "execution_count": 206
        }
      ]
    },
    {
      "cell_type": "markdown",
      "metadata": {
        "id": "GuPrTxNv-x2Q"
      },
      "source": [
        "**Predict**"
      ]
    },
    {
      "cell_type": "code",
      "metadata": {
        "colab": {
          "base_uri": "https://localhost:8080/",
          "height": 203
        },
        "id": "20W62gonOrw3",
        "outputId": "43d53ce7-411f-4b67-d0bc-d17d5e27ed07"
      },
      "source": [
        "df.tail()"
      ],
      "execution_count": null,
      "outputs": [
        {
          "output_type": "execute_result",
          "data": {
            "text/html": [
              "<div>\n",
              "<style scoped>\n",
              "    .dataframe tbody tr th:only-of-type {\n",
              "        vertical-align: middle;\n",
              "    }\n",
              "\n",
              "    .dataframe tbody tr th {\n",
              "        vertical-align: top;\n",
              "    }\n",
              "\n",
              "    .dataframe thead th {\n",
              "        text-align: right;\n",
              "    }\n",
              "</style>\n",
              "<table border=\"1\" class=\"dataframe\">\n",
              "  <thead>\n",
              "    <tr style=\"text-align: right;\">\n",
              "      <th></th>\n",
              "      <th>ds</th>\n",
              "      <th>y</th>\n",
              "    </tr>\n",
              "  </thead>\n",
              "  <tbody>\n",
              "    <tr>\n",
              "      <th>3031</th>\n",
              "      <td>2021-08-16</td>\n",
              "      <td>45996.3</td>\n",
              "    </tr>\n",
              "    <tr>\n",
              "      <th>3032</th>\n",
              "      <td>2021-08-17</td>\n",
              "      <td>44691.6</td>\n",
              "    </tr>\n",
              "    <tr>\n",
              "      <th>3033</th>\n",
              "      <td>2021-08-18</td>\n",
              "      <td>44723.8</td>\n",
              "    </tr>\n",
              "    <tr>\n",
              "      <th>3034</th>\n",
              "      <td>2021-08-19</td>\n",
              "      <td>46755.9</td>\n",
              "    </tr>\n",
              "    <tr>\n",
              "      <th>3035</th>\n",
              "      <td>2021-08-20</td>\n",
              "      <td>47041.6</td>\n",
              "    </tr>\n",
              "  </tbody>\n",
              "</table>\n",
              "</div>"
            ],
            "text/plain": [
              "              ds        y\n",
              "3031  2021-08-16  45996.3\n",
              "3032  2021-08-17  44691.6\n",
              "3033  2021-08-18  44723.8\n",
              "3034  2021-08-19  46755.9\n",
              "3035  2021-08-20  47041.6"
            ]
          },
          "metadata": {},
          "execution_count": 207
        }
      ]
    },
    {
      "cell_type": "code",
      "metadata": {
        "colab": {
          "base_uri": "https://localhost:8080/",
          "height": 307
        },
        "id": "JDqji0Dk9Wmm",
        "outputId": "3e62d69f-009f-49e9-ddb8-d7c8500e0f7c"
      },
      "source": [
        "future = model.make_future_dataframe(periods=365)\n",
        "\n",
        "forecast = model.predict(future)\n",
        "\n",
        "forecast.tail()"
      ],
      "execution_count": null,
      "outputs": [
        {
          "output_type": "execute_result",
          "data": {
            "text/html": [
              "<div>\n",
              "<style scoped>\n",
              "    .dataframe tbody tr th:only-of-type {\n",
              "        vertical-align: middle;\n",
              "    }\n",
              "\n",
              "    .dataframe tbody tr th {\n",
              "        vertical-align: top;\n",
              "    }\n",
              "\n",
              "    .dataframe thead th {\n",
              "        text-align: right;\n",
              "    }\n",
              "</style>\n",
              "<table border=\"1\" class=\"dataframe\">\n",
              "  <thead>\n",
              "    <tr style=\"text-align: right;\">\n",
              "      <th></th>\n",
              "      <th>ds</th>\n",
              "      <th>trend</th>\n",
              "      <th>yhat_lower</th>\n",
              "      <th>yhat_upper</th>\n",
              "      <th>trend_lower</th>\n",
              "      <th>trend_upper</th>\n",
              "      <th>daily</th>\n",
              "      <th>daily_lower</th>\n",
              "      <th>daily_upper</th>\n",
              "      <th>multiplicative_terms</th>\n",
              "      <th>multiplicative_terms_lower</th>\n",
              "      <th>multiplicative_terms_upper</th>\n",
              "      <th>weekly</th>\n",
              "      <th>weekly_lower</th>\n",
              "      <th>weekly_upper</th>\n",
              "      <th>yearly</th>\n",
              "      <th>yearly_lower</th>\n",
              "      <th>yearly_upper</th>\n",
              "      <th>additive_terms</th>\n",
              "      <th>additive_terms_lower</th>\n",
              "      <th>additive_terms_upper</th>\n",
              "      <th>yhat</th>\n",
              "    </tr>\n",
              "  </thead>\n",
              "  <tbody>\n",
              "    <tr>\n",
              "      <th>3396</th>\n",
              "      <td>2022-08-16</td>\n",
              "      <td>14800.515142</td>\n",
              "      <td>36675.196345</td>\n",
              "      <td>99407.262250</td>\n",
              "      <td>8439.357432</td>\n",
              "      <td>22318.275336</td>\n",
              "      <td>3.961742</td>\n",
              "      <td>3.961742</td>\n",
              "      <td>3.961742</td>\n",
              "      <td>3.418114</td>\n",
              "      <td>3.418114</td>\n",
              "      <td>3.418114</td>\n",
              "      <td>-0.011137</td>\n",
              "      <td>-0.011137</td>\n",
              "      <td>-0.011137</td>\n",
              "      <td>-0.532491</td>\n",
              "      <td>-0.532491</td>\n",
              "      <td>-0.532491</td>\n",
              "      <td>0.0</td>\n",
              "      <td>0.0</td>\n",
              "      <td>0.0</td>\n",
              "      <td>65390.362376</td>\n",
              "    </tr>\n",
              "    <tr>\n",
              "      <th>3397</th>\n",
              "      <td>2022-08-17</td>\n",
              "      <td>14815.841890</td>\n",
              "      <td>36437.372658</td>\n",
              "      <td>97827.206528</td>\n",
              "      <td>8420.006912</td>\n",
              "      <td>22357.887632</td>\n",
              "      <td>3.961742</td>\n",
              "      <td>3.961742</td>\n",
              "      <td>3.961742</td>\n",
              "      <td>3.364439</td>\n",
              "      <td>3.364439</td>\n",
              "      <td>3.364439</td>\n",
              "      <td>0.001200</td>\n",
              "      <td>0.001200</td>\n",
              "      <td>0.001200</td>\n",
              "      <td>-0.598503</td>\n",
              "      <td>-0.598503</td>\n",
              "      <td>-0.598503</td>\n",
              "      <td>0.0</td>\n",
              "      <td>0.0</td>\n",
              "      <td>0.0</td>\n",
              "      <td>64662.845037</td>\n",
              "    </tr>\n",
              "    <tr>\n",
              "      <th>3398</th>\n",
              "      <td>2022-08-18</td>\n",
              "      <td>14831.168638</td>\n",
              "      <td>36247.873669</td>\n",
              "      <td>97158.731265</td>\n",
              "      <td>8392.624228</td>\n",
              "      <td>22397.499928</td>\n",
              "      <td>3.961742</td>\n",
              "      <td>3.961742</td>\n",
              "      <td>3.961742</td>\n",
              "      <td>3.291546</td>\n",
              "      <td>3.291546</td>\n",
              "      <td>3.291546</td>\n",
              "      <td>0.003964</td>\n",
              "      <td>0.003964</td>\n",
              "      <td>0.003964</td>\n",
              "      <td>-0.674160</td>\n",
              "      <td>-0.674160</td>\n",
              "      <td>-0.674160</td>\n",
              "      <td>0.0</td>\n",
              "      <td>0.0</td>\n",
              "      <td>0.0</td>\n",
              "      <td>63648.648969</td>\n",
              "    </tr>\n",
              "    <tr>\n",
              "      <th>3399</th>\n",
              "      <td>2022-08-19</td>\n",
              "      <td>14846.495386</td>\n",
              "      <td>35208.338531</td>\n",
              "      <td>95311.685935</td>\n",
              "      <td>8365.241544</td>\n",
              "      <td>22437.112224</td>\n",
              "      <td>3.961742</td>\n",
              "      <td>3.961742</td>\n",
              "      <td>3.961742</td>\n",
              "      <td>3.231011</td>\n",
              "      <td>3.231011</td>\n",
              "      <td>3.231011</td>\n",
              "      <td>0.027900</td>\n",
              "      <td>0.027900</td>\n",
              "      <td>0.027900</td>\n",
              "      <td>-0.758631</td>\n",
              "      <td>-0.758631</td>\n",
              "      <td>-0.758631</td>\n",
              "      <td>0.0</td>\n",
              "      <td>0.0</td>\n",
              "      <td>0.0</td>\n",
              "      <td>62815.687130</td>\n",
              "    </tr>\n",
              "    <tr>\n",
              "      <th>3400</th>\n",
              "      <td>2022-08-20</td>\n",
              "      <td>14861.822135</td>\n",
              "      <td>34069.449288</td>\n",
              "      <td>92715.714442</td>\n",
              "      <td>8337.858860</td>\n",
              "      <td>22483.132432</td>\n",
              "      <td>3.961742</td>\n",
              "      <td>3.961742</td>\n",
              "      <td>3.961742</td>\n",
              "      <td>3.110265</td>\n",
              "      <td>3.110265</td>\n",
              "      <td>3.110265</td>\n",
              "      <td>-0.000551</td>\n",
              "      <td>-0.000551</td>\n",
              "      <td>-0.000551</td>\n",
              "      <td>-0.850926</td>\n",
              "      <td>-0.850926</td>\n",
              "      <td>-0.850926</td>\n",
              "      <td>0.0</td>\n",
              "      <td>0.0</td>\n",
              "      <td>0.0</td>\n",
              "      <td>61086.024882</td>\n",
              "    </tr>\n",
              "  </tbody>\n",
              "</table>\n",
              "</div>"
            ],
            "text/plain": [
              "             ds         trend  ...  additive_terms_upper          yhat\n",
              "3396 2022-08-16  14800.515142  ...                   0.0  65390.362376\n",
              "3397 2022-08-17  14815.841890  ...                   0.0  64662.845037\n",
              "3398 2022-08-18  14831.168638  ...                   0.0  63648.648969\n",
              "3399 2022-08-19  14846.495386  ...                   0.0  62815.687130\n",
              "3400 2022-08-20  14861.822135  ...                   0.0  61086.024882\n",
              "\n",
              "[5 rows x 22 columns]"
            ]
          },
          "metadata": {},
          "execution_count": 208
        }
      ]
    },
    {
      "cell_type": "code",
      "metadata": {
        "id": "DqJ0hAoP_vIg",
        "colab": {
          "base_uri": "https://localhost:8080/",
          "height": 441
        },
        "outputId": "d8810c8b-213d-4a3d-83f0-68091d118ce3"
      },
      "source": [
        "fig1 = model.plot(forecast)"
      ],
      "execution_count": null,
      "outputs": [
        {
          "output_type": "display_data",
          "data": {
            "image/png": "[encoded data removed]",
            "text/plain": [
              "<Figure size 720x432 with 1 Axes>"
            ]
          },
          "metadata": {}
        }
      ]
    },
    {
      "cell_type": "markdown",
      "metadata": {
        "id": "jZRpl1Ln_zL7"
      },
      "source": [
        "**Components**\n",
        "\n",
        "- 어떤 근거들로 예측을 한 것인지에 대해 나타내주는 지표이다. "
      ]
    },
    {
      "cell_type": "code",
      "metadata": {
        "colab": {
          "base_uri": "https://localhost:8080/",
          "height": 873
        },
        "id": "o4IJlw4bASEp",
        "outputId": "e11778c3-f34d-43b2-fad1-4bd3ef96df77"
      },
      "source": [
        "fig2 = model.plot_components(forecast)"
      ],
      "execution_count": null,
      "outputs": [
        {
          "output_type": "display_data",
          "data": {
            "image/png": "[encoded data removed]",
            "text/plain": [
              "<Figure size 648x864 with 4 Axes>"
            ]
          },
          "metadata": {}
        }
      ]
    },
    {
      "cell_type": "markdown",
      "metadata": {
        "id": "syxicxYRJTku"
      },
      "source": [
        "## 시세 데이터 불러오는 방법"
      ]
    },
    {
      "cell_type": "code",
      "metadata": {
        "id": "pzFjRPqIdQlh"
      },
      "source": [
        "# !pip install finance-datareader"
      ],
      "execution_count": null,
      "outputs": []
    },
    {
      "cell_type": "code",
      "metadata": {
        "id": "YgJPPneAJD3G"
      },
      "source": [
        "import FinanceDataReader as fdr"
      ],
      "execution_count": null,
      "outputs": []
    },
    {
      "cell_type": "code",
      "metadata": {
        "id": "rYvWNaCPI1tG"
      },
      "source": [
        "# eth = fdr.DataReader('ETH/KRW', '2016-01-01')\n",
        "# ada = fdr.DataReader('ADA/KRW', '2016-01-01')\n",
        "btc = fdr.DataReader('BTC/USD', '2016-01-01')\n"
      ],
      "execution_count": null,
      "outputs": []
    },
    {
      "cell_type": "code",
      "metadata": {
        "colab": {
          "base_uri": "https://localhost:8080/",
          "height": 234
        },
        "id": "M3fQaEZbJHES",
        "outputId": "d1779f86-cb59-418c-e303-c67d658303a6"
      },
      "source": [
        "btc.tail()"
      ],
      "execution_count": null,
      "outputs": [
        {
          "output_type": "execute_result",
          "data": {
            "text/html": [
              "<div>\n",
              "<style scoped>\n",
              "    .dataframe tbody tr th:only-of-type {\n",
              "        vertical-align: middle;\n",
              "    }\n",
              "\n",
              "    .dataframe tbody tr th {\n",
              "        vertical-align: top;\n",
              "    }\n",
              "\n",
              "    .dataframe thead th {\n",
              "        text-align: right;\n",
              "    }\n",
              "</style>\n",
              "<table border=\"1\" class=\"dataframe\">\n",
              "  <thead>\n",
              "    <tr style=\"text-align: right;\">\n",
              "      <th></th>\n",
              "      <th>Close</th>\n",
              "      <th>Open</th>\n",
              "      <th>High</th>\n",
              "      <th>Low</th>\n",
              "      <th>Volume</th>\n",
              "      <th>Change</th>\n",
              "    </tr>\n",
              "    <tr>\n",
              "      <th>Date</th>\n",
              "      <th></th>\n",
              "      <th></th>\n",
              "      <th></th>\n",
              "      <th></th>\n",
              "      <th></th>\n",
              "      <th></th>\n",
              "    </tr>\n",
              "  </thead>\n",
              "  <tbody>\n",
              "    <tr>\n",
              "      <th>2021-08-16</th>\n",
              "      <td>45996.3</td>\n",
              "      <td>46991.6</td>\n",
              "      <td>48002.4</td>\n",
              "      <td>45672.1</td>\n",
              "      <td>2410.0</td>\n",
              "      <td>-0.0212</td>\n",
              "    </tr>\n",
              "    <tr>\n",
              "      <th>2021-08-17</th>\n",
              "      <td>44691.6</td>\n",
              "      <td>45907.5</td>\n",
              "      <td>47140.6</td>\n",
              "      <td>44441.3</td>\n",
              "      <td>84140.0</td>\n",
              "      <td>-0.0284</td>\n",
              "    </tr>\n",
              "    <tr>\n",
              "      <th>2021-08-18</th>\n",
              "      <td>44723.8</td>\n",
              "      <td>44691.1</td>\n",
              "      <td>46004.9</td>\n",
              "      <td>44230.0</td>\n",
              "      <td>22360.0</td>\n",
              "      <td>0.0007</td>\n",
              "    </tr>\n",
              "    <tr>\n",
              "      <th>2021-08-19</th>\n",
              "      <td>46755.9</td>\n",
              "      <td>44725.9</td>\n",
              "      <td>47012.3</td>\n",
              "      <td>43986.7</td>\n",
              "      <td>77920.0</td>\n",
              "      <td>0.0454</td>\n",
              "    </tr>\n",
              "    <tr>\n",
              "      <th>2021-08-20</th>\n",
              "      <td>47041.6</td>\n",
              "      <td>46756.7</td>\n",
              "      <td>47377.9</td>\n",
              "      <td>46646.8</td>\n",
              "      <td>5720.0</td>\n",
              "      <td>0.0061</td>\n",
              "    </tr>\n",
              "  </tbody>\n",
              "</table>\n",
              "</div>"
            ],
            "text/plain": [
              "              Close     Open     High      Low   Volume  Change\n",
              "Date                                                           \n",
              "2021-08-16  45996.3  46991.6  48002.4  45672.1   2410.0 -0.0212\n",
              "2021-08-17  44691.6  45907.5  47140.6  44441.3  84140.0 -0.0284\n",
              "2021-08-18  44723.8  44691.1  46004.9  44230.0  22360.0  0.0007\n",
              "2021-08-19  46755.9  44725.9  47012.3  43986.7  77920.0  0.0454\n",
              "2021-08-20  47041.6  46756.7  47377.9  46646.8   5720.0  0.0061"
            ]
          },
          "metadata": {},
          "execution_count": 167
        }
      ]
    },
    {
      "cell_type": "code",
      "metadata": {
        "colab": {
          "base_uri": "https://localhost:8080/",
          "height": 203
        },
        "id": "M3CkEolyKvG7",
        "outputId": "d8fc069f-bb32-49e1-8d3a-f4374a022d01"
      },
      "source": [
        "summary.tail()"
      ],
      "execution_count": null,
      "outputs": [
        {
          "output_type": "execute_result",
          "data": {
            "text/html": [
              "<div>\n",
              "<style scoped>\n",
              "    .dataframe tbody tr th:only-of-type {\n",
              "        vertical-align: middle;\n",
              "    }\n",
              "\n",
              "    .dataframe tbody tr th {\n",
              "        vertical-align: top;\n",
              "    }\n",
              "\n",
              "    .dataframe thead th {\n",
              "        text-align: right;\n",
              "    }\n",
              "</style>\n",
              "<table border=\"1\" class=\"dataframe\">\n",
              "  <thead>\n",
              "    <tr style=\"text-align: right;\">\n",
              "      <th></th>\n",
              "      <th>ds</th>\n",
              "      <th>y</th>\n",
              "    </tr>\n",
              "  </thead>\n",
              "  <tbody>\n",
              "    <tr>\n",
              "      <th>2986</th>\n",
              "      <td>2021-07-02</td>\n",
              "      <td>33897.048590</td>\n",
              "    </tr>\n",
              "    <tr>\n",
              "      <th>2987</th>\n",
              "      <td>2021-07-03</td>\n",
              "      <td>34668.548402</td>\n",
              "    </tr>\n",
              "    <tr>\n",
              "      <th>2988</th>\n",
              "      <td>2021-07-04</td>\n",
              "      <td>35287.779766</td>\n",
              "    </tr>\n",
              "    <tr>\n",
              "      <th>2989</th>\n",
              "      <td>2021-07-05</td>\n",
              "      <td>33746.002456</td>\n",
              "    </tr>\n",
              "    <tr>\n",
              "      <th>2990</th>\n",
              "      <td>2021-07-06</td>\n",
              "      <td>34235.193451</td>\n",
              "    </tr>\n",
              "  </tbody>\n",
              "</table>\n",
              "</div>"
            ],
            "text/plain": [
              "             ds             y\n",
              "2986 2021-07-02  33897.048590\n",
              "2987 2021-07-03  34668.548402\n",
              "2988 2021-07-04  35287.779766\n",
              "2989 2021-07-05  33746.002456\n",
              "2990 2021-07-06  34235.193451"
            ]
          },
          "metadata": {},
          "execution_count": 168
        }
      ]
    },
    {
      "cell_type": "markdown",
      "metadata": {
        "id": "8o386pPiODnb"
      },
      "source": [
        "## 2021-08-20 시세까지 합쳐서 비트코인 파일 만들기"
      ]
    },
    {
      "cell_type": "code",
      "metadata": {
        "colab": {
          "base_uri": "https://localhost:8080/",
          "height": 203
        },
        "id": "EXCUl2XiKiD7",
        "outputId": "7170a3f0-f15e-4330-97a4-075b15c14e3c"
      },
      "source": [
        "btc = btc.reset_index()\n",
        "btc.head()"
      ],
      "execution_count": null,
      "outputs": [
        {
          "output_type": "execute_result",
          "data": {
            "text/html": [
              "<div>\n",
              "<style scoped>\n",
              "    .dataframe tbody tr th:only-of-type {\n",
              "        vertical-align: middle;\n",
              "    }\n",
              "\n",
              "    .dataframe tbody tr th {\n",
              "        vertical-align: top;\n",
              "    }\n",
              "\n",
              "    .dataframe thead th {\n",
              "        text-align: right;\n",
              "    }\n",
              "</style>\n",
              "<table border=\"1\" class=\"dataframe\">\n",
              "  <thead>\n",
              "    <tr style=\"text-align: right;\">\n",
              "      <th></th>\n",
              "      <th>Date</th>\n",
              "      <th>Close</th>\n",
              "      <th>Open</th>\n",
              "      <th>High</th>\n",
              "      <th>Low</th>\n",
              "      <th>Volume</th>\n",
              "      <th>Change</th>\n",
              "    </tr>\n",
              "  </thead>\n",
              "  <tbody>\n",
              "    <tr>\n",
              "      <th>0</th>\n",
              "      <td>2016-01-01</td>\n",
              "      <td>434.0</td>\n",
              "      <td>430.0</td>\n",
              "      <td>438.0</td>\n",
              "      <td>425.9</td>\n",
              "      <td>46970.0</td>\n",
              "      <td>0.0094</td>\n",
              "    </tr>\n",
              "    <tr>\n",
              "      <th>1</th>\n",
              "      <td>2016-01-02</td>\n",
              "      <td>433.7</td>\n",
              "      <td>434.0</td>\n",
              "      <td>437.4</td>\n",
              "      <td>430.7</td>\n",
              "      <td>33570.0</td>\n",
              "      <td>-0.0006</td>\n",
              "    </tr>\n",
              "    <tr>\n",
              "      <th>2</th>\n",
              "      <td>2016-01-03</td>\n",
              "      <td>430.7</td>\n",
              "      <td>433.7</td>\n",
              "      <td>434.1</td>\n",
              "      <td>423.1</td>\n",
              "      <td>54830.0</td>\n",
              "      <td>-0.0070</td>\n",
              "    </tr>\n",
              "    <tr>\n",
              "      <th>3</th>\n",
              "      <td>2016-01-04</td>\n",
              "      <td>433.3</td>\n",
              "      <td>430.7</td>\n",
              "      <td>435.3</td>\n",
              "      <td>428.6</td>\n",
              "      <td>53010.0</td>\n",
              "      <td>0.0061</td>\n",
              "    </tr>\n",
              "    <tr>\n",
              "      <th>4</th>\n",
              "      <td>2016-01-05</td>\n",
              "      <td>431.2</td>\n",
              "      <td>433.3</td>\n",
              "      <td>435.3</td>\n",
              "      <td>428.9</td>\n",
              "      <td>45030.0</td>\n",
              "      <td>-0.0049</td>\n",
              "    </tr>\n",
              "  </tbody>\n",
              "</table>\n",
              "</div>"
            ],
            "text/plain": [
              "        Date  Close   Open   High    Low   Volume  Change\n",
              "0 2016-01-01  434.0  430.0  438.0  425.9  46970.0  0.0094\n",
              "1 2016-01-02  433.7  434.0  437.4  430.7  33570.0 -0.0006\n",
              "2 2016-01-03  430.7  433.7  434.1  423.1  54830.0 -0.0070\n",
              "3 2016-01-04  433.3  430.7  435.3  428.6  53010.0  0.0061\n",
              "4 2016-01-05  431.2  433.3  435.3  428.9  45030.0 -0.0049"
            ]
          },
          "metadata": {},
          "execution_count": 169
        }
      ]
    },
    {
      "cell_type": "code",
      "metadata": {
        "colab": {
          "base_uri": "https://localhost:8080/",
          "height": 203
        },
        "id": "khfy70jdKtYE",
        "outputId": "350e89ee-eaa9-4db0-e01d-05df590adc4d"
      },
      "source": [
        "btc = btc[['Date', 'Close']]\n",
        "btc.tail() "
      ],
      "execution_count": null,
      "outputs": [
        {
          "output_type": "execute_result",
          "data": {
            "text/html": [
              "<div>\n",
              "<style scoped>\n",
              "    .dataframe tbody tr th:only-of-type {\n",
              "        vertical-align: middle;\n",
              "    }\n",
              "\n",
              "    .dataframe tbody tr th {\n",
              "        vertical-align: top;\n",
              "    }\n",
              "\n",
              "    .dataframe thead th {\n",
              "        text-align: right;\n",
              "    }\n",
              "</style>\n",
              "<table border=\"1\" class=\"dataframe\">\n",
              "  <thead>\n",
              "    <tr style=\"text-align: right;\">\n",
              "      <th></th>\n",
              "      <th>Date</th>\n",
              "      <th>Close</th>\n",
              "    </tr>\n",
              "  </thead>\n",
              "  <tbody>\n",
              "    <tr>\n",
              "      <th>2054</th>\n",
              "      <td>2021-08-16</td>\n",
              "      <td>45996.3</td>\n",
              "    </tr>\n",
              "    <tr>\n",
              "      <th>2055</th>\n",
              "      <td>2021-08-17</td>\n",
              "      <td>44691.6</td>\n",
              "    </tr>\n",
              "    <tr>\n",
              "      <th>2056</th>\n",
              "      <td>2021-08-18</td>\n",
              "      <td>44723.8</td>\n",
              "    </tr>\n",
              "    <tr>\n",
              "      <th>2057</th>\n",
              "      <td>2021-08-19</td>\n",
              "      <td>46755.9</td>\n",
              "    </tr>\n",
              "    <tr>\n",
              "      <th>2058</th>\n",
              "      <td>2021-08-20</td>\n",
              "      <td>47041.6</td>\n",
              "    </tr>\n",
              "  </tbody>\n",
              "</table>\n",
              "</div>"
            ],
            "text/plain": [
              "           Date    Close\n",
              "2054 2021-08-16  45996.3\n",
              "2055 2021-08-17  44691.6\n",
              "2056 2021-08-18  44723.8\n",
              "2057 2021-08-19  46755.9\n",
              "2058 2021-08-20  47041.6"
            ]
          },
          "metadata": {},
          "execution_count": 170
        }
      ]
    },
    {
      "cell_type": "code",
      "metadata": {
        "colab": {
          "base_uri": "https://localhost:8080/"
        },
        "id": "4lHD3VGoQaaC",
        "outputId": "3a73b6e1-7ffa-4726-8b5d-ce0f592b2194"
      },
      "source": [
        "btc.info()"
      ],
      "execution_count": null,
      "outputs": [
        {
          "output_type": "stream",
          "text": [
            "<class 'pandas.core.frame.DataFrame'>\n",
            "RangeIndex: 2059 entries, 0 to 2058\n",
            "Data columns (total 2 columns):\n",
            " #   Column  Non-Null Count  Dtype         \n",
            "---  ------  --------------  -----         \n",
            " 0   Date    2059 non-null   datetime64[ns]\n",
            " 1   Close   2059 non-null   float64       \n",
            "dtypes: datetime64[ns](1), float64(1)\n",
            "memory usage: 32.3 KB\n"
          ],
          "name": "stdout"
        }
      ]
    },
    {
      "cell_type": "code",
      "metadata": {
        "colab": {
          "base_uri": "https://localhost:8080/",
          "height": 203
        },
        "id": "qgOUq8q_Siyr",
        "outputId": "0d04e2a8-c149-470a-b05b-681ce6e09aff"
      },
      "source": [
        "summary.tail()"
      ],
      "execution_count": null,
      "outputs": [
        {
          "output_type": "execute_result",
          "data": {
            "text/html": [
              "<div>\n",
              "<style scoped>\n",
              "    .dataframe tbody tr th:only-of-type {\n",
              "        vertical-align: middle;\n",
              "    }\n",
              "\n",
              "    .dataframe tbody tr th {\n",
              "        vertical-align: top;\n",
              "    }\n",
              "\n",
              "    .dataframe thead th {\n",
              "        text-align: right;\n",
              "    }\n",
              "</style>\n",
              "<table border=\"1\" class=\"dataframe\">\n",
              "  <thead>\n",
              "    <tr style=\"text-align: right;\">\n",
              "      <th></th>\n",
              "      <th>ds</th>\n",
              "      <th>y</th>\n",
              "    </tr>\n",
              "  </thead>\n",
              "  <tbody>\n",
              "    <tr>\n",
              "      <th>2986</th>\n",
              "      <td>2021-07-02</td>\n",
              "      <td>33897.048590</td>\n",
              "    </tr>\n",
              "    <tr>\n",
              "      <th>2987</th>\n",
              "      <td>2021-07-03</td>\n",
              "      <td>34668.548402</td>\n",
              "    </tr>\n",
              "    <tr>\n",
              "      <th>2988</th>\n",
              "      <td>2021-07-04</td>\n",
              "      <td>35287.779766</td>\n",
              "    </tr>\n",
              "    <tr>\n",
              "      <th>2989</th>\n",
              "      <td>2021-07-05</td>\n",
              "      <td>33746.002456</td>\n",
              "    </tr>\n",
              "    <tr>\n",
              "      <th>2990</th>\n",
              "      <td>2021-07-06</td>\n",
              "      <td>34235.193451</td>\n",
              "    </tr>\n",
              "  </tbody>\n",
              "</table>\n",
              "</div>"
            ],
            "text/plain": [
              "             ds             y\n",
              "2986 2021-07-02  33897.048590\n",
              "2987 2021-07-03  34668.548402\n",
              "2988 2021-07-04  35287.779766\n",
              "2989 2021-07-05  33746.002456\n",
              "2990 2021-07-06  34235.193451"
            ]
          },
          "metadata": {},
          "execution_count": 174
        }
      ]
    },
    {
      "cell_type": "code",
      "metadata": {
        "id": "timmTw7GJI5P",
        "colab": {
          "base_uri": "https://localhost:8080/",
          "height": 80
        },
        "outputId": "7c895342-8570-4b1f-b455-4992ee06f4d9"
      },
      "source": [
        "#2021-07-06\n",
        "\n",
        "btc.loc[btc['Date'] == '2021-07-07']\n",
        "\n",
        "\n",
        "# 2014부터 뽑아내면 된다는 것을 알 수 있다. "
      ],
      "execution_count": null,
      "outputs": [
        {
          "output_type": "execute_result",
          "data": {
            "text/html": [
              "<div>\n",
              "<style scoped>\n",
              "    .dataframe tbody tr th:only-of-type {\n",
              "        vertical-align: middle;\n",
              "    }\n",
              "\n",
              "    .dataframe tbody tr th {\n",
              "        vertical-align: top;\n",
              "    }\n",
              "\n",
              "    .dataframe thead th {\n",
              "        text-align: right;\n",
              "    }\n",
              "</style>\n",
              "<table border=\"1\" class=\"dataframe\">\n",
              "  <thead>\n",
              "    <tr style=\"text-align: right;\">\n",
              "      <th></th>\n",
              "      <th>Date</th>\n",
              "      <th>Close</th>\n",
              "    </tr>\n",
              "  </thead>\n",
              "  <tbody>\n",
              "    <tr>\n",
              "      <th>2014</th>\n",
              "      <td>2021-07-07</td>\n",
              "      <td>33867.8</td>\n",
              "    </tr>\n",
              "  </tbody>\n",
              "</table>\n",
              "</div>"
            ],
            "text/plain": [
              "           Date    Close\n",
              "2014 2021-07-07  33867.8"
            ]
          },
          "metadata": {},
          "execution_count": 172
        }
      ]
    },
    {
      "cell_type": "code",
      "metadata": {
        "colab": {
          "base_uri": "https://localhost:8080/",
          "height": 203
        },
        "id": "xiVTB82eRbxG",
        "outputId": "4e7ca16d-9236-4e8c-f90b-6e9461c81951"
      },
      "source": [
        "add_btc = btc.loc[2014:]\n",
        "add_btc.head()"
      ],
      "execution_count": null,
      "outputs": [
        {
          "output_type": "execute_result",
          "data": {
            "text/html": [
              "<div>\n",
              "<style scoped>\n",
              "    .dataframe tbody tr th:only-of-type {\n",
              "        vertical-align: middle;\n",
              "    }\n",
              "\n",
              "    .dataframe tbody tr th {\n",
              "        vertical-align: top;\n",
              "    }\n",
              "\n",
              "    .dataframe thead th {\n",
              "        text-align: right;\n",
              "    }\n",
              "</style>\n",
              "<table border=\"1\" class=\"dataframe\">\n",
              "  <thead>\n",
              "    <tr style=\"text-align: right;\">\n",
              "      <th></th>\n",
              "      <th>Date</th>\n",
              "      <th>Close</th>\n",
              "    </tr>\n",
              "  </thead>\n",
              "  <tbody>\n",
              "    <tr>\n",
              "      <th>2014</th>\n",
              "      <td>2021-07-07</td>\n",
              "      <td>33867.8</td>\n",
              "    </tr>\n",
              "    <tr>\n",
              "      <th>2015</th>\n",
              "      <td>2021-07-08</td>\n",
              "      <td>32866.3</td>\n",
              "    </tr>\n",
              "    <tr>\n",
              "      <th>2016</th>\n",
              "      <td>2021-07-09</td>\n",
              "      <td>33797.4</td>\n",
              "    </tr>\n",
              "    <tr>\n",
              "      <th>2017</th>\n",
              "      <td>2021-07-10</td>\n",
              "      <td>33510.6</td>\n",
              "    </tr>\n",
              "    <tr>\n",
              "      <th>2018</th>\n",
              "      <td>2021-07-11</td>\n",
              "      <td>34227.7</td>\n",
              "    </tr>\n",
              "  </tbody>\n",
              "</table>\n",
              "</div>"
            ],
            "text/plain": [
              "           Date    Close\n",
              "2014 2021-07-07  33867.8\n",
              "2015 2021-07-08  32866.3\n",
              "2016 2021-07-09  33797.4\n",
              "2017 2021-07-10  33510.6\n",
              "2018 2021-07-11  34227.7"
            ]
          },
          "metadata": {},
          "execution_count": 173
        }
      ]
    },
    {
      "cell_type": "code",
      "metadata": {
        "id": "1v6Ap6p6NAre",
        "colab": {
          "base_uri": "https://localhost:8080/",
          "height": 203
        },
        "outputId": "491417f7-8117-4904-a4a1-ff61127fb6f4"
      },
      "source": [
        "add_btc = add_btc.rename(columns = {'Date': 'ds', 'Close' : 'y'})\n",
        "add_btc.head()"
      ],
      "execution_count": null,
      "outputs": [
        {
          "output_type": "execute_result",
          "data": {
            "text/html": [
              "<div>\n",
              "<style scoped>\n",
              "    .dataframe tbody tr th:only-of-type {\n",
              "        vertical-align: middle;\n",
              "    }\n",
              "\n",
              "    .dataframe tbody tr th {\n",
              "        vertical-align: top;\n",
              "    }\n",
              "\n",
              "    .dataframe thead th {\n",
              "        text-align: right;\n",
              "    }\n",
              "</style>\n",
              "<table border=\"1\" class=\"dataframe\">\n",
              "  <thead>\n",
              "    <tr style=\"text-align: right;\">\n",
              "      <th></th>\n",
              "      <th>ds</th>\n",
              "      <th>y</th>\n",
              "    </tr>\n",
              "  </thead>\n",
              "  <tbody>\n",
              "    <tr>\n",
              "      <th>2014</th>\n",
              "      <td>2021-07-07</td>\n",
              "      <td>33867.8</td>\n",
              "    </tr>\n",
              "    <tr>\n",
              "      <th>2015</th>\n",
              "      <td>2021-07-08</td>\n",
              "      <td>32866.3</td>\n",
              "    </tr>\n",
              "    <tr>\n",
              "      <th>2016</th>\n",
              "      <td>2021-07-09</td>\n",
              "      <td>33797.4</td>\n",
              "    </tr>\n",
              "    <tr>\n",
              "      <th>2017</th>\n",
              "      <td>2021-07-10</td>\n",
              "      <td>33510.6</td>\n",
              "    </tr>\n",
              "    <tr>\n",
              "      <th>2018</th>\n",
              "      <td>2021-07-11</td>\n",
              "      <td>34227.7</td>\n",
              "    </tr>\n",
              "  </tbody>\n",
              "</table>\n",
              "</div>"
            ],
            "text/plain": [
              "             ds        y\n",
              "2014 2021-07-07  33867.8\n",
              "2015 2021-07-08  32866.3\n",
              "2016 2021-07-09  33797.4\n",
              "2017 2021-07-10  33510.6\n",
              "2018 2021-07-11  34227.7"
            ]
          },
          "metadata": {},
          "execution_count": 175
        }
      ]
    },
    {
      "cell_type": "code",
      "metadata": {
        "colab": {
          "base_uri": "https://localhost:8080/",
          "height": 203
        },
        "id": "5jU_LxQGSnYi",
        "outputId": "b0ee24d2-297e-410a-b6be-b615afb7085c"
      },
      "source": [
        "add_btc.tail()"
      ],
      "execution_count": null,
      "outputs": [
        {
          "output_type": "execute_result",
          "data": {
            "text/html": [
              "<div>\n",
              "<style scoped>\n",
              "    .dataframe tbody tr th:only-of-type {\n",
              "        vertical-align: middle;\n",
              "    }\n",
              "\n",
              "    .dataframe tbody tr th {\n",
              "        vertical-align: top;\n",
              "    }\n",
              "\n",
              "    .dataframe thead th {\n",
              "        text-align: right;\n",
              "    }\n",
              "</style>\n",
              "<table border=\"1\" class=\"dataframe\">\n",
              "  <thead>\n",
              "    <tr style=\"text-align: right;\">\n",
              "      <th></th>\n",
              "      <th>ds</th>\n",
              "      <th>y</th>\n",
              "    </tr>\n",
              "  </thead>\n",
              "  <tbody>\n",
              "    <tr>\n",
              "      <th>2054</th>\n",
              "      <td>2021-08-16</td>\n",
              "      <td>45996.3</td>\n",
              "    </tr>\n",
              "    <tr>\n",
              "      <th>2055</th>\n",
              "      <td>2021-08-17</td>\n",
              "      <td>44691.6</td>\n",
              "    </tr>\n",
              "    <tr>\n",
              "      <th>2056</th>\n",
              "      <td>2021-08-18</td>\n",
              "      <td>44723.8</td>\n",
              "    </tr>\n",
              "    <tr>\n",
              "      <th>2057</th>\n",
              "      <td>2021-08-19</td>\n",
              "      <td>46755.9</td>\n",
              "    </tr>\n",
              "    <tr>\n",
              "      <th>2058</th>\n",
              "      <td>2021-08-20</td>\n",
              "      <td>47041.6</td>\n",
              "    </tr>\n",
              "  </tbody>\n",
              "</table>\n",
              "</div>"
            ],
            "text/plain": [
              "             ds        y\n",
              "2054 2021-08-16  45996.3\n",
              "2055 2021-08-17  44691.6\n",
              "2056 2021-08-18  44723.8\n",
              "2057 2021-08-19  46755.9\n",
              "2058 2021-08-20  47041.6"
            ]
          },
          "metadata": {},
          "execution_count": 176
        }
      ]
    },
    {
      "cell_type": "code",
      "metadata": {
        "colab": {
          "base_uri": "https://localhost:8080/",
          "height": 203
        },
        "id": "-Z5AuOqiNJVS",
        "outputId": "ec715946-e10a-4361-def3-1b4408a13e69"
      },
      "source": [
        "complete_btc = pd.concat([summary, add_btc])\n",
        "complete_btc.tail()"
      ],
      "execution_count": null,
      "outputs": [
        {
          "output_type": "execute_result",
          "data": {
            "text/html": [
              "<div>\n",
              "<style scoped>\n",
              "    .dataframe tbody tr th:only-of-type {\n",
              "        vertical-align: middle;\n",
              "    }\n",
              "\n",
              "    .dataframe tbody tr th {\n",
              "        vertical-align: top;\n",
              "    }\n",
              "\n",
              "    .dataframe thead th {\n",
              "        text-align: right;\n",
              "    }\n",
              "</style>\n",
              "<table border=\"1\" class=\"dataframe\">\n",
              "  <thead>\n",
              "    <tr style=\"text-align: right;\">\n",
              "      <th></th>\n",
              "      <th>ds</th>\n",
              "      <th>y</th>\n",
              "    </tr>\n",
              "  </thead>\n",
              "  <tbody>\n",
              "    <tr>\n",
              "      <th>2054</th>\n",
              "      <td>2021-08-16</td>\n",
              "      <td>45996.3</td>\n",
              "    </tr>\n",
              "    <tr>\n",
              "      <th>2055</th>\n",
              "      <td>2021-08-17</td>\n",
              "      <td>44691.6</td>\n",
              "    </tr>\n",
              "    <tr>\n",
              "      <th>2056</th>\n",
              "      <td>2021-08-18</td>\n",
              "      <td>44723.8</td>\n",
              "    </tr>\n",
              "    <tr>\n",
              "      <th>2057</th>\n",
              "      <td>2021-08-19</td>\n",
              "      <td>46755.9</td>\n",
              "    </tr>\n",
              "    <tr>\n",
              "      <th>2058</th>\n",
              "      <td>2021-08-20</td>\n",
              "      <td>47041.6</td>\n",
              "    </tr>\n",
              "  </tbody>\n",
              "</table>\n",
              "</div>"
            ],
            "text/plain": [
              "             ds        y\n",
              "2054 2021-08-16  45996.3\n",
              "2055 2021-08-17  44691.6\n",
              "2056 2021-08-18  44723.8\n",
              "2057 2021-08-19  46755.9\n",
              "2058 2021-08-20  47041.6"
            ]
          },
          "metadata": {},
          "execution_count": 177
        }
      ]
    },
    {
      "cell_type": "code",
      "metadata": {
        "colab": {
          "base_uri": "https://localhost:8080/",
          "height": 203
        },
        "id": "de4TYxAMRtgf",
        "outputId": "e1590a5e-0a4f-4b69-f361-342fe0643e7c"
      },
      "source": [
        "complete_btc.head()"
      ],
      "execution_count": null,
      "outputs": [
        {
          "output_type": "execute_result",
          "data": {
            "text/html": [
              "<div>\n",
              "<style scoped>\n",
              "    .dataframe tbody tr th:only-of-type {\n",
              "        vertical-align: middle;\n",
              "    }\n",
              "\n",
              "    .dataframe tbody tr th {\n",
              "        vertical-align: top;\n",
              "    }\n",
              "\n",
              "    .dataframe thead th {\n",
              "        text-align: right;\n",
              "    }\n",
              "</style>\n",
              "<table border=\"1\" class=\"dataframe\">\n",
              "  <thead>\n",
              "    <tr style=\"text-align: right;\">\n",
              "      <th></th>\n",
              "      <th>ds</th>\n",
              "      <th>y</th>\n",
              "    </tr>\n",
              "  </thead>\n",
              "  <tbody>\n",
              "    <tr>\n",
              "      <th>0</th>\n",
              "      <td>2013-04-29</td>\n",
              "      <td>144.539993</td>\n",
              "    </tr>\n",
              "    <tr>\n",
              "      <th>1</th>\n",
              "      <td>2013-04-30</td>\n",
              "      <td>139.000000</td>\n",
              "    </tr>\n",
              "    <tr>\n",
              "      <th>2</th>\n",
              "      <td>2013-05-01</td>\n",
              "      <td>116.989998</td>\n",
              "    </tr>\n",
              "    <tr>\n",
              "      <th>3</th>\n",
              "      <td>2013-05-02</td>\n",
              "      <td>105.209999</td>\n",
              "    </tr>\n",
              "    <tr>\n",
              "      <th>4</th>\n",
              "      <td>2013-05-03</td>\n",
              "      <td>97.750000</td>\n",
              "    </tr>\n",
              "  </tbody>\n",
              "</table>\n",
              "</div>"
            ],
            "text/plain": [
              "          ds           y\n",
              "0 2013-04-29  144.539993\n",
              "1 2013-04-30  139.000000\n",
              "2 2013-05-01  116.989998\n",
              "3 2013-05-02  105.209999\n",
              "4 2013-05-03   97.750000"
            ]
          },
          "metadata": {},
          "execution_count": 178
        }
      ]
    },
    {
      "cell_type": "code",
      "metadata": {
        "colab": {
          "base_uri": "https://localhost:8080/"
        },
        "id": "CSAbQyVEN-8K",
        "outputId": "ea4c1f00-0497-4483-d497-18b64bfd4b99"
      },
      "source": [
        "len(complete_btc['ds'])"
      ],
      "execution_count": null,
      "outputs": [
        {
          "output_type": "execute_result",
          "data": {
            "text/plain": [
              "3036"
            ]
          },
          "metadata": {},
          "execution_count": 186
        }
      ]
    },
    {
      "cell_type": "code",
      "metadata": {
        "id": "PQDjEHYcS-p-"
      },
      "source": [
        "complete_btc = complete_btc.reset_index(drop=True)"
      ],
      "execution_count": null,
      "outputs": []
    },
    {
      "cell_type": "code",
      "metadata": {
        "colab": {
          "base_uri": "https://localhost:8080/",
          "height": 203
        },
        "id": "YcRnnSXETsyv",
        "outputId": "cfcd070f-e23e-4cb8-94a1-40f2f20374cd"
      },
      "source": [
        "complete_btc.tail()"
      ],
      "execution_count": null,
      "outputs": [
        {
          "output_type": "execute_result",
          "data": {
            "text/html": [
              "<div>\n",
              "<style scoped>\n",
              "    .dataframe tbody tr th:only-of-type {\n",
              "        vertical-align: middle;\n",
              "    }\n",
              "\n",
              "    .dataframe tbody tr th {\n",
              "        vertical-align: top;\n",
              "    }\n",
              "\n",
              "    .dataframe thead th {\n",
              "        text-align: right;\n",
              "    }\n",
              "</style>\n",
              "<table border=\"1\" class=\"dataframe\">\n",
              "  <thead>\n",
              "    <tr style=\"text-align: right;\">\n",
              "      <th></th>\n",
              "      <th>ds</th>\n",
              "      <th>y</th>\n",
              "    </tr>\n",
              "  </thead>\n",
              "  <tbody>\n",
              "    <tr>\n",
              "      <th>3031</th>\n",
              "      <td>2021-08-16</td>\n",
              "      <td>45996.3</td>\n",
              "    </tr>\n",
              "    <tr>\n",
              "      <th>3032</th>\n",
              "      <td>2021-08-17</td>\n",
              "      <td>44691.6</td>\n",
              "    </tr>\n",
              "    <tr>\n",
              "      <th>3033</th>\n",
              "      <td>2021-08-18</td>\n",
              "      <td>44723.8</td>\n",
              "    </tr>\n",
              "    <tr>\n",
              "      <th>3034</th>\n",
              "      <td>2021-08-19</td>\n",
              "      <td>46755.9</td>\n",
              "    </tr>\n",
              "    <tr>\n",
              "      <th>3035</th>\n",
              "      <td>2021-08-20</td>\n",
              "      <td>47041.6</td>\n",
              "    </tr>\n",
              "  </tbody>\n",
              "</table>\n",
              "</div>"
            ],
            "text/plain": [
              "             ds        y\n",
              "3031 2021-08-16  45996.3\n",
              "3032 2021-08-17  44691.6\n",
              "3033 2021-08-18  44723.8\n",
              "3034 2021-08-19  46755.9\n",
              "3035 2021-08-20  47041.6"
            ]
          },
          "metadata": {},
          "execution_count": 194
        }
      ]
    },
    {
      "cell_type": "code",
      "metadata": {
        "id": "Ood6BH2GUR8M"
      },
      "source": [
        "complete_btc.to_csv('complete_btc', index=False)"
      ],
      "execution_count": null,
      "outputs": []
    }
  ]
}