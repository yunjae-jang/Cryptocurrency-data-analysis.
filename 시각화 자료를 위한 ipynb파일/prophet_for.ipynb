{
 "cells": [
  {
   "cell_type": "markdown",
   "metadata": {
    "id": "6CNrn9EsaZLD"
   },
   "source": [
    "## 데이터 불러오기"
   ]
  },
  {
   "cell_type": "code",
   "execution_count": 293,
   "metadata": {
    "colab": {
     "base_uri": "https://localhost:8080/",
     "height": 17
    },
    "id": "rzTGBqlRSAFg",
    "outputId": "af1831ff-c838-4fa7-d422-613fe19da777"
   },
   "outputs": [
    {
     "data": {
      "text/html": [
       "<style>, container{width:90% !important;}</style>"
      ],
      "text/plain": [
       "<IPython.core.display.HTML object>"
      ]
     },
     "metadata": {},
     "output_type": "display_data"
    }
   ],
   "source": [
    "import pandas as pd\n",
    "import matplotlib.pyplot as plt\n",
    "import glob\n",
    "import os\n",
    "from IPython.core.display import display, HTML\n",
    "\n",
    "display(HTML(\"<style>, container{width:90% !important;}</style>\"))"
   ]
  },
  {
   "cell_type": "code",
   "execution_count": 294,
   "metadata": {
    "colab": {
     "base_uri": "https://localhost:8080/"
    },
    "id": "My1D61bSZDBD",
    "outputId": "738ead90-7819-4dd1-afff-da1d79f7f782"
   },
   "outputs": [
    {
     "name": "stdout",
     "output_type": "stream",
     "text": [
      "['/content/coin_project/coin_Polkadot.csv', '/content/coin_project/coin_Tron.csv', '/content/coin_project/coin_USDCoin.csv', '/content/coin_project/coin_XRP.csv', '/content/coin_project/coin_Monero.csv', '/content/coin_project/coin_EOS.csv', '/content/coin_project/coin_ChainLink.csv', '/content/coin_project/coin_Stellar.csv', '/content/coin_project/coin_Tether.csv', '/content/coin_project/coin_BinanceCoin.csv', '/content/coin_project/coin_NEM.csv', '/content/coin_project/coin_Dogecoin.csv', '/content/coin_project/coin_Ethereum.csv', '/content/coin_project/coin_Cardano.csv', '/content/coin_project/coin_WrappedBitcoin.csv', '/content/coin_project/coin_Aave.csv', '/content/coin_project/coin_Bitcoin.csv']\n"
     ]
    }
   ],
   "source": [
    "input_file = r\"/content/coin_project\" # csv 파일들이 있는 위치\n",
    "output_file = r\"/content/coin_project/what.csv\" # 병합하고 저장하려는 파일명\n",
    "allFile_list = glob.glob(os.path.join(input_file, 'coin_*')) # glob함수로 coin_으로 시작하는 파일들을 모은다. \n",
    "print(allFile_list)"
   ]
  },
  {
   "cell_type": "code",
   "execution_count": 295,
   "metadata": {
    "id": "84ufGl0fZ6BC"
   },
   "outputs": [],
   "source": [
    "allData = [] # 읽어 들인 csv 파일 내용을 저장할 빈 리스트를 하나 만든다. \n",
    "for file in allFile_list:\n",
    "    df = pd.read_csv(file, engine='python') # for 구문으로 csv파일들을 읽어 들인다. \n",
    "    allData.append(df)"
   ]
  },
  {
   "cell_type": "code",
   "execution_count": 296,
   "metadata": {
    "colab": {
     "base_uri": "https://localhost:8080/",
     "height": 589
    },
    "id": "E22Z2XpKZ_Tq",
    "outputId": "52c6e69f-484d-4aad-d06b-371b656d2697"
   },
   "outputs": [
    {
     "data": {
      "text/html": [
       "<div>\n",
       "<style scoped>\n",
       "    .dataframe tbody tr th:only-of-type {\n",
       "        vertical-align: middle;\n",
       "    }\n",
       "\n",
       "    .dataframe tbody tr th {\n",
       "        vertical-align: top;\n",
       "    }\n",
       "\n",
       "    .dataframe thead th {\n",
       "        text-align: right;\n",
       "    }\n",
       "</style>\n",
       "<table border=\"1\" class=\"dataframe\">\n",
       "  <thead>\n",
       "    <tr style=\"text-align: right;\">\n",
       "      <th></th>\n",
       "      <th>SNo</th>\n",
       "      <th>Name</th>\n",
       "      <th>Symbol</th>\n",
       "      <th>Date</th>\n",
       "      <th>High</th>\n",
       "      <th>Low</th>\n",
       "      <th>Open</th>\n",
       "      <th>Close</th>\n",
       "      <th>Volume</th>\n",
       "      <th>Marketcap</th>\n",
       "    </tr>\n",
       "  </thead>\n",
       "  <tbody>\n",
       "    <tr>\n",
       "      <th>0</th>\n",
       "      <td>1</td>\n",
       "      <td>Aave</td>\n",
       "      <td>AAVE</td>\n",
       "      <td>2020-10-05 23:59:59</td>\n",
       "      <td>55.112358</td>\n",
       "      <td>49.787900</td>\n",
       "      <td>52.675035</td>\n",
       "      <td>53.219243</td>\n",
       "      <td>0.000000e+00</td>\n",
       "      <td>8.912813e+07</td>\n",
       "    </tr>\n",
       "    <tr>\n",
       "      <th>1</th>\n",
       "      <td>2</td>\n",
       "      <td>Aave</td>\n",
       "      <td>AAVE</td>\n",
       "      <td>2020-10-06 23:59:59</td>\n",
       "      <td>53.402270</td>\n",
       "      <td>40.734578</td>\n",
       "      <td>53.291969</td>\n",
       "      <td>42.401599</td>\n",
       "      <td>5.830915e+05</td>\n",
       "      <td>7.101144e+07</td>\n",
       "    </tr>\n",
       "    <tr>\n",
       "      <th>2</th>\n",
       "      <td>3</td>\n",
       "      <td>Aave</td>\n",
       "      <td>AAVE</td>\n",
       "      <td>2020-10-07 23:59:59</td>\n",
       "      <td>42.408314</td>\n",
       "      <td>35.970690</td>\n",
       "      <td>42.399947</td>\n",
       "      <td>40.083976</td>\n",
       "      <td>6.828342e+05</td>\n",
       "      <td>6.713004e+07</td>\n",
       "    </tr>\n",
       "    <tr>\n",
       "      <th>3</th>\n",
       "      <td>4</td>\n",
       "      <td>Aave</td>\n",
       "      <td>AAVE</td>\n",
       "      <td>2020-10-08 23:59:59</td>\n",
       "      <td>44.902511</td>\n",
       "      <td>36.696057</td>\n",
       "      <td>39.885262</td>\n",
       "      <td>43.764463</td>\n",
       "      <td>1.658817e+06</td>\n",
       "      <td>2.202651e+08</td>\n",
       "    </tr>\n",
       "    <tr>\n",
       "      <th>4</th>\n",
       "      <td>5</td>\n",
       "      <td>Aave</td>\n",
       "      <td>AAVE</td>\n",
       "      <td>2020-10-09 23:59:59</td>\n",
       "      <td>47.569533</td>\n",
       "      <td>43.291776</td>\n",
       "      <td>43.764463</td>\n",
       "      <td>46.817744</td>\n",
       "      <td>8.155377e+05</td>\n",
       "      <td>2.356322e+08</td>\n",
       "    </tr>\n",
       "    <tr>\n",
       "      <th>...</th>\n",
       "      <td>...</td>\n",
       "      <td>...</td>\n",
       "      <td>...</td>\n",
       "      <td>...</td>\n",
       "      <td>...</td>\n",
       "      <td>...</td>\n",
       "      <td>...</td>\n",
       "      <td>...</td>\n",
       "      <td>...</td>\n",
       "      <td>...</td>\n",
       "    </tr>\n",
       "    <tr>\n",
       "      <th>270</th>\n",
       "      <td>271</td>\n",
       "      <td>Aave</td>\n",
       "      <td>AAVE</td>\n",
       "      <td>2021-07-02 23:59:59</td>\n",
       "      <td>234.483957</td>\n",
       "      <td>215.951539</td>\n",
       "      <td>230.814119</td>\n",
       "      <td>233.948437</td>\n",
       "      <td>2.566395e+08</td>\n",
       "      <td>3.001542e+09</td>\n",
       "    </tr>\n",
       "    <tr>\n",
       "      <th>271</th>\n",
       "      <td>272</td>\n",
       "      <td>Aave</td>\n",
       "      <td>AAVE</td>\n",
       "      <td>2021-07-03 23:59:59</td>\n",
       "      <td>265.107342</td>\n",
       "      <td>228.485206</td>\n",
       "      <td>234.208478</td>\n",
       "      <td>259.655225</td>\n",
       "      <td>3.853778e+08</td>\n",
       "      <td>3.331546e+09</td>\n",
       "    </tr>\n",
       "    <tr>\n",
       "      <th>272</th>\n",
       "      <td>273</td>\n",
       "      <td>Aave</td>\n",
       "      <td>AAVE</td>\n",
       "      <td>2021-07-04 23:59:59</td>\n",
       "      <td>289.001124</td>\n",
       "      <td>248.285491</td>\n",
       "      <td>259.399426</td>\n",
       "      <td>277.038792</td>\n",
       "      <td>4.275719e+08</td>\n",
       "      <td>3.555054e+09</td>\n",
       "    </tr>\n",
       "    <tr>\n",
       "      <th>273</th>\n",
       "      <td>274</td>\n",
       "      <td>Aave</td>\n",
       "      <td>AAVE</td>\n",
       "      <td>2021-07-05 23:59:59</td>\n",
       "      <td>317.387234</td>\n",
       "      <td>263.433881</td>\n",
       "      <td>277.110533</td>\n",
       "      <td>307.829079</td>\n",
       "      <td>7.931409e+08</td>\n",
       "      <td>3.950269e+09</td>\n",
       "    </tr>\n",
       "    <tr>\n",
       "      <th>274</th>\n",
       "      <td>275</td>\n",
       "      <td>Aave</td>\n",
       "      <td>AAVE</td>\n",
       "      <td>2021-07-06 23:59:59</td>\n",
       "      <td>346.714780</td>\n",
       "      <td>307.997525</td>\n",
       "      <td>307.997525</td>\n",
       "      <td>316.898507</td>\n",
       "      <td>9.887055e+08</td>\n",
       "      <td>4.066776e+09</td>\n",
       "    </tr>\n",
       "  </tbody>\n",
       "</table>\n",
       "<p>275 rows × 10 columns</p>\n",
       "</div>"
      ],
      "text/plain": [
       "     SNo  Name Symbol  ...       Close        Volume     Marketcap\n",
       "0      1  Aave   AAVE  ...   53.219243  0.000000e+00  8.912813e+07\n",
       "1      2  Aave   AAVE  ...   42.401599  5.830915e+05  7.101144e+07\n",
       "2      3  Aave   AAVE  ...   40.083976  6.828342e+05  6.713004e+07\n",
       "3      4  Aave   AAVE  ...   43.764463  1.658817e+06  2.202651e+08\n",
       "4      5  Aave   AAVE  ...   46.817744  8.155377e+05  2.356322e+08\n",
       "..   ...   ...    ...  ...         ...           ...           ...\n",
       "270  271  Aave   AAVE  ...  233.948437  2.566395e+08  3.001542e+09\n",
       "271  272  Aave   AAVE  ...  259.655225  3.853778e+08  3.331546e+09\n",
       "272  273  Aave   AAVE  ...  277.038792  4.275719e+08  3.555054e+09\n",
       "273  274  Aave   AAVE  ...  307.829079  7.931409e+08  3.950269e+09\n",
       "274  275  Aave   AAVE  ...  316.898507  9.887055e+08  4.066776e+09\n",
       "\n",
       "[275 rows x 10 columns]"
      ]
     },
     "execution_count": 296,
     "metadata": {},
     "output_type": "execute_result"
    }
   ],
   "source": [
    "allData[15] #0~15까지 있음. "
   ]
  },
  {
   "cell_type": "markdown",
   "metadata": {
    "id": "xmUq39ApaBDK"
   },
   "source": [
    "## 데이터 prophet"
   ]
  },
  {
   "cell_type": "code",
   "execution_count": 297,
   "metadata": {
    "colab": {
     "base_uri": "https://localhost:8080/"
    },
    "id": "Sx4eUGZqafbi",
    "outputId": "5ec246c3-0ce7-4220-d594-645b984d337d"
   },
   "outputs": [
    {
     "data": {
      "text/plain": [
       "Index(['SNo', 'Name', 'Symbol', 'Date', 'High', 'Low', 'Open', 'Close',\n",
       "       'Volume', 'Marketcap'],\n",
       "      dtype='object')"
      ]
     },
     "execution_count": 297,
     "metadata": {},
     "output_type": "execute_result"
    }
   ],
   "source": [
    "allData[0].columns"
   ]
  },
  {
   "cell_type": "code",
   "execution_count": 298,
   "metadata": {
    "colab": {
     "base_uri": "https://localhost:8080/"
    },
    "id": "serlKzjrbcCa",
    "outputId": "d349ac35-248c-447f-d990-ceb3c4594ad4"
   },
   "outputs": [
    {
     "data": {
      "text/plain": [
       "['Polkadot',\n",
       " 'TRON',\n",
       " 'USD Coin',\n",
       " 'XRP',\n",
       " 'Monero',\n",
       " 'EOS',\n",
       " 'Chainlink',\n",
       " 'Stellar',\n",
       " 'Tether',\n",
       " 'Binance Coin',\n",
       " 'NEM',\n",
       " 'Dogecoin',\n",
       " 'Ethereum',\n",
       " 'Cardano',\n",
       " 'Wrapped Bitcoin',\n",
       " 'Aave',\n",
       " 'Bitcoin']"
      ]
     },
     "execution_count": 298,
     "metadata": {},
     "output_type": "execute_result"
    }
   ],
   "source": [
    "coin_list = []\n",
    "\n",
    "for i in range(17):\n",
    "  x = allData[i]['Name'][1]\n",
    "  coin_list.append(x)\n",
    "coin_list"
   ]
  },
  {
   "cell_type": "code",
   "execution_count": 299,
   "metadata": {
    "id": "rNgJzfPJbCgb"
   },
   "outputs": [],
   "source": [
    "for i in range(17) : \n",
    "    allData[i]['Date'] = allData[i]['Date'].str.replace('23:59:59', '')\n",
    "    allData[i]['Date'] = allData[i]['Date'].astype('datetime64[ns]')\n",
    "    allData[i] = allData[i][['Date', 'Close']]\n",
    "    allData[i] = allData[i].rename(columns={'Date' : 'ds', 'Close' : 'y'}) "
   ]
  },
  {
   "cell_type": "code",
   "execution_count": 300,
   "metadata": {
    "colab": {
     "base_uri": "https://localhost:8080/",
     "height": 348
    },
    "id": "bV4egPATcqia",
    "outputId": "8014f3a7-7e99-410e-d8e7-42d7c57063e9"
   },
   "outputs": [
    {
     "data": {
      "image/png": "[encoded data removed]",
      "text/plain": [
       "<Figure size 720x360 with 1 Axes>"
      ]
     },
     "metadata": {
      "needs_background": "light"
     },
     "output_type": "display_data"
    }
   ],
   "source": [
    "allData[0].plot(x='ds', y='y', figsize=(10,5))\n",
    "plt.show()"
   ]
  },
  {
   "cell_type": "markdown",
   "metadata": {
    "id": "Ska8HV9qa60J"
   },
   "source": [
    "## fit"
   ]
  },
  {
   "cell_type": "code",
   "execution_count": 390,
   "metadata": {
    "id": "vN9QvUlYfL6T"
   },
   "outputs": [],
   "source": [
    "# pip install fbprophet\n",
    "from fbprophet import Prophet\n",
    "coin_Invest_mean_list = []\n",
    "coin_Invest_lower_list = []\n",
    "coin_Invest_upper_list = []\n",
    "coin_Invest_list = []"
   ]
  },
  {
   "cell_type": "code",
   "execution_count": 447,
   "metadata": {
    "id": "1M0LqjDzfJX5"
   },
   "outputs": [],
   "source": [
    "model = Prophet(seasonality_mode = 'multiplicative',\n",
    "                yearly_seasonality = True,\n",
    "                weekly_seasonality = True,\n",
    "                daily_seasonality = True,\n",
    "                changepoint_prior_scale=0.5)\n",
    "model.fit(allData[15])\n",
    "future = model.make_future_dataframe(periods=365)\n",
    "forecast = model.predict(future)"
   ]
  },
  {
   "cell_type": "code",
   "execution_count": 448,
   "metadata": {
    "id": "fhUWgCrTaIgx"
   },
   "outputs": [],
   "source": [
    "a = (forecast['yhat'].mean() / allData[15]['y'].tail(1))\n",
    "b = forecast['yhat'].max() / allData[15]['y'].tail(1)\n",
    "c = forecast['yhat'].min() / allData[15]['y'].tail(1)\n",
    "d = forecast['yhat'].tail(1)\n",
    "\n",
    "coin_Invest_mean_list.append(a.values)\n",
    "coin_Invest_upper_list.append(b.values)\n",
    "coin_Invest_lower_list.append(c.values)\n",
    "coin_Invest_list.append(d.values)"
   ]
  },
  {
   "cell_type": "code",
   "execution_count": 427,
   "metadata": {
    "colab": {
     "base_uri": "https://localhost:8080/"
    },
    "id": "SZwM_Dpua2GQ",
    "outputId": "601e2e73-afdc-4642-c653-c5164b5ce756"
   },
   "outputs": [
    {
     "data": {
      "text/plain": [
       "[array([59.17479828]),\n",
       " array([0.12137877]),\n",
       " array([1.01112606]),\n",
       " array([0.75995307]),\n",
       " array([347.78640269]),\n",
       " array([4.91222161]),\n",
       " array([41.32883083]),\n",
       " array([0.42695007]),\n",
       " array([1.00076562]),\n",
       " array([731.65863565]),\n",
       " array([0.24335161]),\n",
       " array([0.39307153]),\n",
       " array([3637.62787111]),\n",
       " array([2.85839468]),\n",
       " array([28205.13191589]),\n",
       " array([-2085.87082788]),\n",
       " array([48106.31999162])]"
      ]
     },
     "execution_count": 427,
     "metadata": {},
     "output_type": "execute_result"
    }
   ],
   "source": [
    "coin_Invest_list"
   ]
  },
  {
   "cell_type": "code",
   "execution_count": 312,
   "metadata": {
    "colab": {
     "base_uri": "https://localhost:8080/"
    },
    "id": "jEXul_toVpCu",
    "outputId": "28182d3f-8e1e-4b55-eff1-197cd2d383d0"
   },
   "outputs": [
    {
     "name": "stdout",
     "output_type": "stream",
     "text": [
      "2990    0.346973\n",
      "Name: y, dtype: float64\n",
      "2990    2.949907\n",
      "Name: y, dtype: float64\n",
      "2990   -0.025567\n",
      "Name: y, dtype: float64\n"
     ]
    }
   ],
   "source": [
    "print(forecast['yhat'].mean() / allData[16]['y'].tail(1)) # 투자후, 1년동안 평균 상승률\n",
    "print(forecast['yhat'].max() / allData[16]['y'].tail(1)) # 1년 투자때 최대 수익률\n",
    "print(forecast['yhat'].min() / allData[16]['y'].tail(1)) # 1년 투자때 최저 수익률 \n",
    "print(forecast['yhat'].tail(1)) # 정확히 1년 투자시\n"
   ]
  },
  {
   "cell_type": "markdown",
   "metadata": {
    "id": "VtFiu8IB2ivs"
   },
   "source": [
    "### coin_ROI_list"
   ]
  },
  {
   "cell_type": "code",
   "execution_count": 463,
   "metadata": {
    "colab": {
     "base_uri": "https://localhost:8080/",
     "height": 35
    },
    "id": "ywCLn16sUgP-",
    "outputId": "8e585d1a-13e9-4e80-ab70-e445ce1b3fa8"
   },
   "outputs": [
    {
     "data": {
      "application/vnd.google.colaboratory.intrinsic+json": {
       "type": "string"
      },
      "text/plain": [
       "'Ethereum'"
      ]
     },
     "execution_count": 463,
     "metadata": {},
     "output_type": "execute_result"
    }
   ],
   "source": [
    "coin_list[12]"
   ]
  },
  {
   "cell_type": "code",
   "execution_count": 434,
   "metadata": {
    "colab": {
     "base_uri": "https://localhost:8080/",
     "height": 576
    },
    "id": "DDkPmnrkq5hB",
    "outputId": "35773dcd-4e02-4454-c73a-36eefb8f0e4e"
   },
   "outputs": [
    {
     "data": {
      "text/html": [
       "<div>\n",
       "<style scoped>\n",
       "    .dataframe tbody tr th:only-of-type {\n",
       "        vertical-align: middle;\n",
       "    }\n",
       "\n",
       "    .dataframe tbody tr th {\n",
       "        vertical-align: top;\n",
       "    }\n",
       "\n",
       "    .dataframe thead th {\n",
       "        text-align: right;\n",
       "    }\n",
       "</style>\n",
       "<table border=\"1\" class=\"dataframe\">\n",
       "  <thead>\n",
       "    <tr style=\"text-align: right;\">\n",
       "      <th></th>\n",
       "      <th>Invest_1year</th>\n",
       "      <th>Invest_max</th>\n",
       "      <th>Invest_lower</th>\n",
       "      <th>Invest_mean</th>\n",
       "    </tr>\n",
       "  </thead>\n",
       "  <tbody>\n",
       "    <tr>\n",
       "      <th>0</th>\n",
       "      <td>59.174798</td>\n",
       "      <td>[194.03825784430026]</td>\n",
       "      <td>[-0.4303280762961782]</td>\n",
       "      <td>[30.839670508340994]</td>\n",
       "    </tr>\n",
       "    <tr>\n",
       "      <th>1</th>\n",
       "      <td>0.121379</td>\n",
       "      <td>[5.011172714376997]</td>\n",
       "      <td>[-0.00027145067879462447]</td>\n",
       "      <td>[0.8551470283983658]</td>\n",
       "    </tr>\n",
       "    <tr>\n",
       "      <th>2</th>\n",
       "      <td>1.011126</td>\n",
       "      <td>[1.0228841570001064]</td>\n",
       "      <td>[0.9952186683790996]</td>\n",
       "      <td>[1.005229325124135]</td>\n",
       "    </tr>\n",
       "    <tr>\n",
       "      <th>3</th>\n",
       "      <td>0.759953</td>\n",
       "      <td>[3.5079923673226956]</td>\n",
       "      <td>[-0.06603458984256605]</td>\n",
       "      <td>[0.43267136771463827]</td>\n",
       "    </tr>\n",
       "    <tr>\n",
       "      <th>4</th>\n",
       "      <td>347.786403</td>\n",
       "      <td>[3.1948429158663307]</td>\n",
       "      <td>[0.0008395230005588749]</td>\n",
       "      <td>[0.48037700497222297]</td>\n",
       "    </tr>\n",
       "    <tr>\n",
       "      <th>5</th>\n",
       "      <td>4.912222</td>\n",
       "      <td>[4.242949709130158]</td>\n",
       "      <td>[0.10048623583290205]</td>\n",
       "      <td>[1.2057658821521882]</td>\n",
       "    </tr>\n",
       "    <tr>\n",
       "      <th>6</th>\n",
       "      <td>41.328831</td>\n",
       "      <td>[5.122736468581749]</td>\n",
       "      <td>[0.008440381565482201]</td>\n",
       "      <td>[0.8885812899092362]</td>\n",
       "    </tr>\n",
       "    <tr>\n",
       "      <th>7</th>\n",
       "      <td>0.426950</td>\n",
       "      <td>[4.23021324567599]</td>\n",
       "      <td>[-0.03631553183149326]</td>\n",
       "      <td>[0.5725630401408993]</td>\n",
       "    </tr>\n",
       "    <tr>\n",
       "      <th>8</th>\n",
       "      <td>1.000766</td>\n",
       "      <td>[1.0168112513388572]</td>\n",
       "      <td>[0.9681575395406339]</td>\n",
       "      <td>[1.0005075066242566]</td>\n",
       "    </tr>\n",
       "    <tr>\n",
       "      <th>9</th>\n",
       "      <td>731.658636</td>\n",
       "      <td>[4.9515513366916]</td>\n",
       "      <td>[9.127148490309473e-05]</td>\n",
       "      <td>[0.49749189584957915]</td>\n",
       "    </tr>\n",
       "    <tr>\n",
       "      <th>10</th>\n",
       "      <td>0.243352</td>\n",
       "      <td>[10.214928419606752]</td>\n",
       "      <td>[-0.20939277229717215]</td>\n",
       "      <td>[1.2553217742582654]</td>\n",
       "    </tr>\n",
       "    <tr>\n",
       "      <th>11</th>\n",
       "      <td>0.393072</td>\n",
       "      <td>[4.329898106008099]</td>\n",
       "      <td>[-0.14020952974512693]</td>\n",
       "      <td>[0.1439281839308648]</td>\n",
       "    </tr>\n",
       "    <tr>\n",
       "      <th>12</th>\n",
       "      <td>3637.627871</td>\n",
       "      <td>[2.955438601016325]</td>\n",
       "      <td>[-0.000335007604894912]</td>\n",
       "      <td>[0.31986429648772063]</td>\n",
       "    </tr>\n",
       "    <tr>\n",
       "      <th>13</th>\n",
       "      <td>2.858395</td>\n",
       "      <td>[2.6854021143782982]</td>\n",
       "      <td>[0.0005371556275702767]</td>\n",
       "      <td>[0.3775855787258875]</td>\n",
       "    </tr>\n",
       "    <tr>\n",
       "      <th>14</th>\n",
       "      <td>28205.131916</td>\n",
       "      <td>[1.7376395216102747]</td>\n",
       "      <td>[0.09231265668025779]</td>\n",
       "      <td>[0.6325432209847809]</td>\n",
       "    </tr>\n",
       "    <tr>\n",
       "      <th>15</th>\n",
       "      <td>-2085.870828</td>\n",
       "      <td>[1.631164570807621]</td>\n",
       "      <td>[-6.7559241850626135]</td>\n",
       "      <td>[-1.2058423784952828]</td>\n",
       "    </tr>\n",
       "    <tr>\n",
       "      <th>16</th>\n",
       "      <td>48106.319992</td>\n",
       "      <td>[2.949906575131008]</td>\n",
       "      <td>[-0.02556653727671499]</td>\n",
       "      <td>[0.3469731243981523]</td>\n",
       "    </tr>\n",
       "  </tbody>\n",
       "</table>\n",
       "</div>"
      ],
      "text/plain": [
       "    Invest_1year  ...            Invest_mean\n",
       "0      59.174798  ...   [30.839670508340994]\n",
       "1       0.121379  ...   [0.8551470283983658]\n",
       "2       1.011126  ...    [1.005229325124135]\n",
       "3       0.759953  ...  [0.43267136771463827]\n",
       "4     347.786403  ...  [0.48037700497222297]\n",
       "5       4.912222  ...   [1.2057658821521882]\n",
       "6      41.328831  ...   [0.8885812899092362]\n",
       "7       0.426950  ...   [0.5725630401408993]\n",
       "8       1.000766  ...   [1.0005075066242566]\n",
       "9     731.658636  ...  [0.49749189584957915]\n",
       "10      0.243352  ...   [1.2553217742582654]\n",
       "11      0.393072  ...   [0.1439281839308648]\n",
       "12   3637.627871  ...  [0.31986429648772063]\n",
       "13      2.858395  ...   [0.3775855787258875]\n",
       "14  28205.131916  ...   [0.6325432209847809]\n",
       "15  -2085.870828  ...  [-1.2058423784952828]\n",
       "16  48106.319992  ...   [0.3469731243981523]\n",
       "\n",
       "[17 rows x 4 columns]"
      ]
     },
     "execution_count": 434,
     "metadata": {},
     "output_type": "execute_result"
    }
   ],
   "source": [
    "complete_Invest['Invest_1year'] = pd.DataFrame(coin_Invest_list)\n",
    "complete_Invest =  complete_Invest.rename(columns={0:'Invest_1year'})\n",
    "complete_Invest"
   ]
  },
  {
   "cell_type": "code",
   "execution_count": 439,
   "metadata": {
    "id": "8dfa-c4OzVth"
   },
   "outputs": [],
   "source": [
    "complete_Invest['Invest_max'] = pd.DataFrame(coin_Invest_upper_list).round(2)\n",
    "complete_Invest['Invest_lower'] = pd.DataFrame(coin_Invest_lower_list).round(2)\n",
    "complete_Invest['Invest_mean'] = pd.DataFrame(coin_Invest_mean_list).round(2)"
   ]
  },
  {
   "cell_type": "code",
   "execution_count": 446,
   "metadata": {
    "colab": {
     "base_uri": "https://localhost:8080/",
     "height": 235
    },
    "id": "D-rD6sA8kbFC",
    "outputId": "3b6295b4-00fd-4ecb-e4c3-63b8d39e23c7"
   },
   "outputs": [
    {
     "data": {
      "text/html": [
       "<div>\n",
       "<style scoped>\n",
       "    .dataframe tbody tr th:only-of-type {\n",
       "        vertical-align: middle;\n",
       "    }\n",
       "\n",
       "    .dataframe tbody tr th {\n",
       "        vertical-align: top;\n",
       "    }\n",
       "\n",
       "    .dataframe thead th {\n",
       "        text-align: right;\n",
       "    }\n",
       "</style>\n",
       "<table border=\"1\" class=\"dataframe\">\n",
       "  <thead>\n",
       "    <tr style=\"text-align: right;\">\n",
       "      <th></th>\n",
       "      <th>Invest_1year</th>\n",
       "      <th>Invest_max</th>\n",
       "      <th>Invest_lower</th>\n",
       "      <th>Invest_mean</th>\n",
       "    </tr>\n",
       "    <tr>\n",
       "      <th>coin_name</th>\n",
       "      <th></th>\n",
       "      <th></th>\n",
       "      <th></th>\n",
       "      <th></th>\n",
       "    </tr>\n",
       "  </thead>\n",
       "  <tbody>\n",
       "    <tr>\n",
       "      <th>Polkadot</th>\n",
       "      <td>59.174798</td>\n",
       "      <td>194.04</td>\n",
       "      <td>-0.43</td>\n",
       "      <td>30.84</td>\n",
       "    </tr>\n",
       "    <tr>\n",
       "      <th>TRON</th>\n",
       "      <td>0.121379</td>\n",
       "      <td>5.01</td>\n",
       "      <td>-0.00</td>\n",
       "      <td>0.86</td>\n",
       "    </tr>\n",
       "    <tr>\n",
       "      <th>USD Coin</th>\n",
       "      <td>1.011126</td>\n",
       "      <td>1.02</td>\n",
       "      <td>1.00</td>\n",
       "      <td>1.01</td>\n",
       "    </tr>\n",
       "    <tr>\n",
       "      <th>XRP</th>\n",
       "      <td>0.759953</td>\n",
       "      <td>3.51</td>\n",
       "      <td>-0.07</td>\n",
       "      <td>0.43</td>\n",
       "    </tr>\n",
       "    <tr>\n",
       "      <th>Monero</th>\n",
       "      <td>347.786403</td>\n",
       "      <td>3.19</td>\n",
       "      <td>0.00</td>\n",
       "      <td>0.48</td>\n",
       "    </tr>\n",
       "  </tbody>\n",
       "</table>\n",
       "</div>"
      ],
      "text/plain": [
       "           Invest_1year  Invest_max  Invest_lower  Invest_mean\n",
       "coin_name                                                     \n",
       "Polkadot      59.174798      194.04         -0.43        30.84\n",
       "TRON           0.121379        5.01         -0.00         0.86\n",
       "USD Coin       1.011126        1.02          1.00         1.01\n",
       "XRP            0.759953        3.51         -0.07         0.43\n",
       "Monero       347.786403        3.19          0.00         0.48"
      ]
     },
     "execution_count": 446,
     "metadata": {},
     "output_type": "execute_result"
    }
   ],
   "source": [
    "complete_Invest['coin_name'] = coin_list\n",
    "complete_Invest = complete_Invest.set_index('coin_name')\n",
    "complete_Invest.head()"
   ]
  },
  {
   "cell_type": "code",
   "execution_count": null,
   "metadata": {
    "id": "VqTiWTj7l3lz"
   },
   "outputs": [],
   "source": [
    "complete_Invest.to_csv('complete_Invest.csv')"
   ]
  },
  {
   "cell_type": "markdown",
   "metadata": {
    "id": "5jb81KhRfJt7"
   },
   "source": [
    "## Predict"
   ]
  },
  {
   "cell_type": "code",
   "execution_count": 315,
   "metadata": {
    "colab": {
     "base_uri": "https://localhost:8080/",
     "height": 309
    },
    "id": "tHxK2EVhfhQh",
    "outputId": "83cfe823-168d-40f2-835d-1208fcdb84ef"
   },
   "outputs": [
    {
     "data": {
      "text/html": [
       "<div>\n",
       "<style scoped>\n",
       "    .dataframe tbody tr th:only-of-type {\n",
       "        vertical-align: middle;\n",
       "    }\n",
       "\n",
       "    .dataframe tbody tr th {\n",
       "        vertical-align: top;\n",
       "    }\n",
       "\n",
       "    .dataframe thead th {\n",
       "        text-align: right;\n",
       "    }\n",
       "</style>\n",
       "<table border=\"1\" class=\"dataframe\">\n",
       "  <thead>\n",
       "    <tr style=\"text-align: right;\">\n",
       "      <th></th>\n",
       "      <th>ds</th>\n",
       "      <th>trend</th>\n",
       "      <th>yhat_lower</th>\n",
       "      <th>yhat_upper</th>\n",
       "      <th>trend_lower</th>\n",
       "      <th>trend_upper</th>\n",
       "      <th>daily</th>\n",
       "      <th>daily_lower</th>\n",
       "      <th>daily_upper</th>\n",
       "      <th>multiplicative_terms</th>\n",
       "      <th>multiplicative_terms_lower</th>\n",
       "      <th>multiplicative_terms_upper</th>\n",
       "      <th>weekly</th>\n",
       "      <th>weekly_lower</th>\n",
       "      <th>weekly_upper</th>\n",
       "      <th>yearly</th>\n",
       "      <th>yearly_lower</th>\n",
       "      <th>yearly_upper</th>\n",
       "      <th>additive_terms</th>\n",
       "      <th>additive_terms_lower</th>\n",
       "      <th>additive_terms_upper</th>\n",
       "      <th>yhat</th>\n",
       "    </tr>\n",
       "  </thead>\n",
       "  <tbody>\n",
       "    <tr>\n",
       "      <th>3351</th>\n",
       "      <td>2022-07-02</td>\n",
       "      <td>16470.508702</td>\n",
       "      <td>17793.125749</td>\n",
       "      <td>79341.795156</td>\n",
       "      <td>6048.684885</td>\n",
       "      <td>25643.778085</td>\n",
       "      <td>2.975356</td>\n",
       "      <td>2.975356</td>\n",
       "      <td>2.975356</td>\n",
       "      <td>2.098114</td>\n",
       "      <td>2.098114</td>\n",
       "      <td>2.098114</td>\n",
       "      <td>0.001610</td>\n",
       "      <td>0.001610</td>\n",
       "      <td>0.001610</td>\n",
       "      <td>-0.878852</td>\n",
       "      <td>-0.878852</td>\n",
       "      <td>-0.878852</td>\n",
       "      <td>0.0</td>\n",
       "      <td>0.0</td>\n",
       "      <td>0.0</td>\n",
       "      <td>51027.516671</td>\n",
       "    </tr>\n",
       "    <tr>\n",
       "      <th>3352</th>\n",
       "      <td>2022-07-03</td>\n",
       "      <td>16488.014912</td>\n",
       "      <td>17591.700110</td>\n",
       "      <td>78739.732829</td>\n",
       "      <td>5977.934978</td>\n",
       "      <td>25722.410299</td>\n",
       "      <td>2.975356</td>\n",
       "      <td>2.975356</td>\n",
       "      <td>2.975356</td>\n",
       "      <td>2.042980</td>\n",
       "      <td>2.042980</td>\n",
       "      <td>2.042980</td>\n",
       "      <td>-0.007758</td>\n",
       "      <td>-0.007758</td>\n",
       "      <td>-0.007758</td>\n",
       "      <td>-0.924618</td>\n",
       "      <td>-0.924618</td>\n",
       "      <td>-0.924618</td>\n",
       "      <td>0.0</td>\n",
       "      <td>0.0</td>\n",
       "      <td>0.0</td>\n",
       "      <td>50172.705760</td>\n",
       "    </tr>\n",
       "    <tr>\n",
       "      <th>3353</th>\n",
       "      <td>2022-07-04</td>\n",
       "      <td>16505.521121</td>\n",
       "      <td>17367.761002</td>\n",
       "      <td>77641.287044</td>\n",
       "      <td>5901.698204</td>\n",
       "      <td>25778.878302</td>\n",
       "      <td>2.975356</td>\n",
       "      <td>2.975356</td>\n",
       "      <td>2.975356</td>\n",
       "      <td>2.005561</td>\n",
       "      <td>2.005561</td>\n",
       "      <td>2.005561</td>\n",
       "      <td>0.001105</td>\n",
       "      <td>0.001105</td>\n",
       "      <td>0.001105</td>\n",
       "      <td>-0.970899</td>\n",
       "      <td>-0.970899</td>\n",
       "      <td>-0.970899</td>\n",
       "      <td>0.0</td>\n",
       "      <td>0.0</td>\n",
       "      <td>0.0</td>\n",
       "      <td>49608.357608</td>\n",
       "    </tr>\n",
       "    <tr>\n",
       "      <th>3354</th>\n",
       "      <td>2022-07-05</td>\n",
       "      <td>16523.027331</td>\n",
       "      <td>17569.524152</td>\n",
       "      <td>76754.963897</td>\n",
       "      <td>5825.461430</td>\n",
       "      <td>25826.000366</td>\n",
       "      <td>2.975356</td>\n",
       "      <td>2.975356</td>\n",
       "      <td>2.975356</td>\n",
       "      <td>1.965671</td>\n",
       "      <td>1.965671</td>\n",
       "      <td>1.965671</td>\n",
       "      <td>0.007829</td>\n",
       "      <td>0.007829</td>\n",
       "      <td>0.007829</td>\n",
       "      <td>-1.017515</td>\n",
       "      <td>-1.017515</td>\n",
       "      <td>-1.017515</td>\n",
       "      <td>0.0</td>\n",
       "      <td>0.0</td>\n",
       "      <td>0.0</td>\n",
       "      <td>49001.863147</td>\n",
       "    </tr>\n",
       "    <tr>\n",
       "      <th>3355</th>\n",
       "      <td>2022-07-06</td>\n",
       "      <td>16540.533540</td>\n",
       "      <td>16916.558945</td>\n",
       "      <td>75319.983142</td>\n",
       "      <td>5749.224656</td>\n",
       "      <td>25872.541159</td>\n",
       "      <td>2.975356</td>\n",
       "      <td>2.975356</td>\n",
       "      <td>2.975356</td>\n",
       "      <td>1.908390</td>\n",
       "      <td>1.908390</td>\n",
       "      <td>1.908390</td>\n",
       "      <td>-0.002677</td>\n",
       "      <td>-0.002677</td>\n",
       "      <td>-0.002677</td>\n",
       "      <td>-1.064289</td>\n",
       "      <td>-1.064289</td>\n",
       "      <td>-1.064289</td>\n",
       "      <td>0.0</td>\n",
       "      <td>0.0</td>\n",
       "      <td>0.0</td>\n",
       "      <td>48106.319992</td>\n",
       "    </tr>\n",
       "  </tbody>\n",
       "</table>\n",
       "</div>"
      ],
      "text/plain": [
       "             ds         trend  ...  additive_terms_upper          yhat\n",
       "3351 2022-07-02  16470.508702  ...                   0.0  51027.516671\n",
       "3352 2022-07-03  16488.014912  ...                   0.0  50172.705760\n",
       "3353 2022-07-04  16505.521121  ...                   0.0  49608.357608\n",
       "3354 2022-07-05  16523.027331  ...                   0.0  49001.863147\n",
       "3355 2022-07-06  16540.533540  ...                   0.0  48106.319992\n",
       "\n",
       "[5 rows x 22 columns]"
      ]
     },
     "execution_count": 315,
     "metadata": {},
     "output_type": "execute_result"
    }
   ],
   "source": [
    "future = model.make_future_dataframe(periods=365)\n",
    "\n",
    "forecast = model.predict(future)\n",
    "\n",
    "forecast.tail()"
   ]
  },
  {
   "cell_type": "code",
   "execution_count": 471,
   "metadata": {
    "colab": {
     "base_uri": "https://localhost:8080/",
     "height": 35
    },
    "id": "5GVm3fqHuuLa",
    "outputId": "78d9ccd3-bdbc-4ea8-e8d6-dd74a2a4d845"
   },
   "outputs": [
    {
     "data": {
      "application/vnd.google.colaboratory.intrinsic+json": {
       "type": "string"
      },
      "text/plain": [
       "'Polkadot'"
      ]
     },
     "execution_count": 471,
     "metadata": {},
     "output_type": "execute_result"
    }
   ],
   "source": [
    "coin_list[0]"
   ]
  },
  {
   "cell_type": "code",
   "execution_count": 473,
   "metadata": {
    "id": "PFQVyEINmYQL"
   },
   "outputs": [],
   "source": [
    "model = Prophet(seasonality_mode = 'multiplicative',\n",
    "                yearly_seasonality = True,\n",
    "                weekly_seasonality = True,\n",
    "                daily_seasonality = True,\n",
    "                changepoint_prior_scale=0.5)\n",
    "model.fit(allData[0])\n",
    "future = model.make_future_dataframe(periods=365)\n",
    "forecast = model.predict(future)"
   ]
  },
  {
   "cell_type": "code",
   "execution_count": 474,
   "metadata": {
    "colab": {
     "base_uri": "https://localhost:8080/",
     "height": 441
    },
    "id": "jSSvtyZXfiTj",
    "outputId": "426770bd-ed8a-4585-cf63-b28459d173a3"
   },
   "outputs": [
    {
     "data": {
      "image/png": "[encoded data removed]",
      "text/plain": [
       "<Figure size 720x432 with 1 Axes>"
      ]
     },
     "metadata": {},
     "output_type": "display_data"
    }
   ],
   "source": [
    "fig1 = model.plot(forecast)"
   ]
  },
  {
   "cell_type": "code",
   "execution_count": null,
   "metadata": {
    "id": "5_FCvNoJgMBU"
   },
   "outputs": [],
   "source": []
  }
 ],
 "metadata": {
  "colab": {
   "collapsed_sections": [],
   "name": "prophet_for",
   "provenance": []
  },
  "kernelspec": {
   "display_name": "Python 3",
   "language": "python",
   "name": "python3"
  },
  "language_info": {
   "codemirror_mode": {
    "name": "ipython",
    "version": 3
   },
   "file_extension": ".py",
   "mimetype": "text/x-python",
   "name": "python",
   "nbconvert_exporter": "python",
   "pygments_lexer": "ipython3",
   "version": "3.8.8"
  }
 },
 "nbformat": 4,
 "nbformat_minor": 1
}
